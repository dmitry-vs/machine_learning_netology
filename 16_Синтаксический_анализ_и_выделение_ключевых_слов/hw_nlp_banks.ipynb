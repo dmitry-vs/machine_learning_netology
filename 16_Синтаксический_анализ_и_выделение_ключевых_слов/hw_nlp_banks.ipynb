{
 "cells": [
  {
   "cell_type": "markdown",
   "metadata": {},
   "source": [
    "# Практика по NLP\n",
    "\n",
    "Классификация по тональности и тематическое моделирование отзывов клиентов банков\n",
    "\n",
    "Датасет: `banki_responses.json.bz2`"
   ]
  },
  {
   "cell_type": "code",
   "execution_count": 1,
   "metadata": {},
   "outputs": [],
   "source": [
    "import json\n",
    "import bz2\n",
    "import pandas as pd\n",
    "import numpy as np\n",
    "import matplotlib.pyplot as plt\n",
    "from tqdm import tqdm\n",
    "tqdm.pandas()\n",
    "import re"
   ]
  },
  {
   "cell_type": "code",
   "execution_count": 2,
   "metadata": {},
   "outputs": [
    {
     "name": "stderr",
     "output_type": "stream",
     "text": [
      "201030it [03:11, 1049.88it/s]\n"
     ]
    }
   ],
   "source": [
    "responses = []\n",
    "with bz2.BZ2File('banki_responses.json.bz2', 'r') as hfile:\n",
    "    for row in tqdm(hfile):\n",
    "        resp = json.loads(row)\n",
    "        if not resp['rating_not_checked'] and (len(resp['text'].split()) > 0):\n",
    "            responses.append(resp)"
   ]
  },
  {
   "cell_type": "code",
   "execution_count": 3,
   "metadata": {},
   "outputs": [
    {
     "data": {
      "text/plain": [
       "153499"
      ]
     },
     "execution_count": 3,
     "metadata": {},
     "output_type": "execute_result"
    }
   ],
   "source": [
    "len(responses)"
   ]
  },
  {
   "cell_type": "code",
   "execution_count": 4,
   "metadata": {},
   "outputs": [
    {
     "data": {
      "text/plain": [
       "{'city': 'г. Саратов',\n",
       " 'rating_not_checked': False,\n",
       " 'title': 'Карта ко вкладу',\n",
       " 'num_comments': 0,\n",
       " 'bank_license': 'лицензия № 880',\n",
       " 'author': 'ronnichka',\n",
       " 'bank_name': 'Югра',\n",
       " 'datetime': '2015-06-03 20:56:57',\n",
       " 'text': 'Здравствуйте! Хотела написать, что мне месяц не выдают карту ко вкладу, ссылаясь на \"нам же их из Самары везут\" (на секундочку 5 часов езды от нашего города). Но! Прочитала, что людям 3,5 месяцев не выдают карту, и поняла, что у меня все хорошо, пока что. И подарок мне дали, и кулер в отделении есть. Так что я, конечно, готова ждать. Правда хотелось бы не очень долго.',\n",
       " 'rating_grade': 3}"
      ]
     },
     "execution_count": 4,
     "metadata": {},
     "output_type": "execute_result"
    }
   ],
   "source": [
    "responses[99]"
   ]
  },
  {
   "cell_type": "markdown",
   "metadata": {},
   "source": [
    "---\n",
    "Для удобства работы с данными преобразуем их в формат pandas\n",
    "\n",
    "---"
   ]
  },
  {
   "cell_type": "code",
   "execution_count": 5,
   "metadata": {},
   "outputs": [
    {
     "data": {
      "text/plain": [
       "(153499, 10)"
      ]
     },
     "execution_count": 5,
     "metadata": {},
     "output_type": "execute_result"
    }
   ],
   "source": [
    "data = pd.DataFrame.from_dict(responses)\n",
    "data.shape"
   ]
  },
  {
   "cell_type": "code",
   "execution_count": 6,
   "metadata": {},
   "outputs": [
    {
     "data": {
      "text/html": [
       "<div>\n",
       "<style scoped>\n",
       "    .dataframe tbody tr th:only-of-type {\n",
       "        vertical-align: middle;\n",
       "    }\n",
       "\n",
       "    .dataframe tbody tr th {\n",
       "        vertical-align: top;\n",
       "    }\n",
       "\n",
       "    .dataframe thead th {\n",
       "        text-align: right;\n",
       "    }\n",
       "</style>\n",
       "<table border=\"1\" class=\"dataframe\">\n",
       "  <thead>\n",
       "    <tr style=\"text-align: right;\">\n",
       "      <th></th>\n",
       "      <th>author</th>\n",
       "      <th>bank_license</th>\n",
       "      <th>bank_name</th>\n",
       "      <th>city</th>\n",
       "      <th>datetime</th>\n",
       "      <th>num_comments</th>\n",
       "      <th>rating_grade</th>\n",
       "      <th>rating_not_checked</th>\n",
       "      <th>text</th>\n",
       "      <th>title</th>\n",
       "    </tr>\n",
       "  </thead>\n",
       "  <tbody>\n",
       "    <tr>\n",
       "      <th>0</th>\n",
       "      <td>uhnov1</td>\n",
       "      <td>лицензия № 2562</td>\n",
       "      <td>Бинбанк</td>\n",
       "      <td>г. Москва</td>\n",
       "      <td>2015-06-08 12:50:54</td>\n",
       "      <td>0</td>\n",
       "      <td>NaN</td>\n",
       "      <td>False</td>\n",
       "      <td>Добрый день! Я не являюсь клиентом банка и пор...</td>\n",
       "      <td>Жалоба</td>\n",
       "    </tr>\n",
       "    <tr>\n",
       "      <th>1</th>\n",
       "      <td>Foryou</td>\n",
       "      <td>лицензия № 1481</td>\n",
       "      <td>Сбербанк России</td>\n",
       "      <td>г. Новосибирск</td>\n",
       "      <td>2015-06-08 11:09:57</td>\n",
       "      <td>0</td>\n",
       "      <td>NaN</td>\n",
       "      <td>False</td>\n",
       "      <td>Доброго дня! Являюсь держателем зарплатной кар...</td>\n",
       "      <td>Не могу пользоваться услугой Сбербанк он-лайн</td>\n",
       "    </tr>\n",
       "    <tr>\n",
       "      <th>2</th>\n",
       "      <td>Vladimir84</td>\n",
       "      <td>лицензия № 2562</td>\n",
       "      <td>Бинбанк</td>\n",
       "      <td>г. Москва</td>\n",
       "      <td>2015-06-05 20:14:28</td>\n",
       "      <td>1</td>\n",
       "      <td>NaN</td>\n",
       "      <td>False</td>\n",
       "      <td>Здравствуйте!  Дублирую свое заявление от 03.0...</td>\n",
       "      <td>Двойное списание за один товар.</td>\n",
       "    </tr>\n",
       "  </tbody>\n",
       "</table>\n",
       "</div>"
      ],
      "text/plain": [
       "       author     bank_license        bank_name            city  \\\n",
       "0      uhnov1  лицензия № 2562          Бинбанк       г. Москва   \n",
       "1      Foryou  лицензия № 1481  Сбербанк России  г. Новосибирск   \n",
       "2  Vladimir84  лицензия № 2562          Бинбанк       г. Москва   \n",
       "\n",
       "              datetime  num_comments  rating_grade  rating_not_checked  \\\n",
       "0  2015-06-08 12:50:54             0           NaN               False   \n",
       "1  2015-06-08 11:09:57             0           NaN               False   \n",
       "2  2015-06-05 20:14:28             1           NaN               False   \n",
       "\n",
       "                                                text  \\\n",
       "0  Добрый день! Я не являюсь клиентом банка и пор...   \n",
       "1  Доброго дня! Являюсь держателем зарплатной кар...   \n",
       "2  Здравствуйте!  Дублирую свое заявление от 03.0...   \n",
       "\n",
       "                                           title  \n",
       "0                                         Жалоба  \n",
       "1  Не могу пользоваться услугой Сбербанк он-лайн  \n",
       "2                Двойное списание за один товар.  "
      ]
     },
     "execution_count": 6,
     "metadata": {},
     "output_type": "execute_result"
    }
   ],
   "source": [
    "data.head(3)"
   ]
  },
  {
   "cell_type": "markdown",
   "metadata": {},
   "source": [
    "### Часть 1. Анализ текстов"
   ]
  },
  {
   "cell_type": "markdown",
   "metadata": {},
   "source": [
    "1. Посчитайте количество отзывов в разных городах и на разные банки"
   ]
  },
  {
   "cell_type": "code",
   "execution_count": 7,
   "metadata": {},
   "outputs": [
    {
     "data": {
      "text/plain": [
       "city\n",
       "г. Москва             55354\n",
       "г. Санкт-Петербург    14342\n",
       "г. Екатеринбург        2337\n",
       "г. Новосибирск         2300\n",
       "г. Нижний Новгород     1976\n",
       "г. Ростов-на-Дону      1891\n",
       "г. Самара              1731\n",
       "г. Челябинск           1507\n",
       "г. Казань              1440\n",
       "г. Краснодар           1262\n",
       "г. Уфа                 1246\n",
       "г. Красноярск          1236\n",
       "г. москва              1217\n",
       "г. Воронеж             1210\n",
       "г. Пермь               1163\n",
       "dtype: int64"
      ]
     },
     "execution_count": 7,
     "metadata": {},
     "output_type": "execute_result"
    }
   ],
   "source": [
    "# считаем число отзывов по городам\n",
    "ratings_cities = data.groupby('city').size()\n",
    "ratings_cities.sort_values(ascending=False)[:15]"
   ]
  },
  {
   "cell_type": "code",
   "execution_count": 8,
   "metadata": {},
   "outputs": [
    {
     "data": {
      "text/plain": [
       "bank_name\n",
       "Сбербанк России              26327\n",
       "Альфа-Банк                   10224\n",
       "ВТБ 24                        8185\n",
       "Русский Стандарт              7943\n",
       "Хоум Кредит Банк              7549\n",
       "Тинькофф Банк                 5387\n",
       "Национальный Банк «Траст»     4607\n",
       "Ренессанс Кредит              3849\n",
       "Связной Банк                  3775\n",
       "ОТП Банк                      3237\n",
       "Восточный Экспресс Банк       3138\n",
       "Райффайзенбанк                3057\n",
       "Московский Кредитный Банк     2944\n",
       "Ситибанк                      2848\n",
       "Авангард                      2733\n",
       "dtype: int64"
      ]
     },
     "execution_count": 8,
     "metadata": {},
     "output_type": "execute_result"
    }
   ],
   "source": [
    "# считаем число отзывов на разные банки\n",
    "ratings_banks = data.groupby('bank_name').size()\n",
    "ratings_banks.sort_values(ascending=False)[:15]"
   ]
  },
  {
   "cell_type": "markdown",
   "metadata": {},
   "source": [
    "2. Построить гистограммы длин слов в символах и в словах\n",
    "\n",
    "*(тут наверное имеется в виду \"длин **текстов** в символах и в словах\")*"
   ]
  },
  {
   "cell_type": "code",
   "execution_count": 9,
   "metadata": {},
   "outputs": [
    {
     "name": "stderr",
     "output_type": "stream",
     "text": [
      "100%|██████████████████████████████████████████████████████████████████████| 153499/153499 [00:00<00:00, 446473.18it/s]\n"
     ]
    }
   ],
   "source": [
    "# считаем длины текстов в символах\n",
    "data['text_len_sym'] = data.text.progress_apply(len)"
   ]
  },
  {
   "cell_type": "code",
   "execution_count": 10,
   "metadata": {},
   "outputs": [
    {
     "data": {
      "text/html": [
       "<div>\n",
       "<style scoped>\n",
       "    .dataframe tbody tr th:only-of-type {\n",
       "        vertical-align: middle;\n",
       "    }\n",
       "\n",
       "    .dataframe tbody tr th {\n",
       "        vertical-align: top;\n",
       "    }\n",
       "\n",
       "    .dataframe thead th {\n",
       "        text-align: right;\n",
       "    }\n",
       "</style>\n",
       "<table border=\"1\" class=\"dataframe\">\n",
       "  <thead>\n",
       "    <tr style=\"text-align: right;\">\n",
       "      <th></th>\n",
       "      <th>author</th>\n",
       "      <th>bank_license</th>\n",
       "      <th>bank_name</th>\n",
       "      <th>city</th>\n",
       "      <th>datetime</th>\n",
       "      <th>num_comments</th>\n",
       "      <th>rating_grade</th>\n",
       "      <th>rating_not_checked</th>\n",
       "      <th>text</th>\n",
       "      <th>title</th>\n",
       "      <th>text_len_sym</th>\n",
       "    </tr>\n",
       "  </thead>\n",
       "  <tbody>\n",
       "    <tr>\n",
       "      <th>0</th>\n",
       "      <td>uhnov1</td>\n",
       "      <td>лицензия № 2562</td>\n",
       "      <td>Бинбанк</td>\n",
       "      <td>г. Москва</td>\n",
       "      <td>2015-06-08 12:50:54</td>\n",
       "      <td>0</td>\n",
       "      <td>NaN</td>\n",
       "      <td>False</td>\n",
       "      <td>Добрый день! Я не являюсь клиентом банка и пор...</td>\n",
       "      <td>Жалоба</td>\n",
       "      <td>1523</td>\n",
       "    </tr>\n",
       "    <tr>\n",
       "      <th>1</th>\n",
       "      <td>Foryou</td>\n",
       "      <td>лицензия № 1481</td>\n",
       "      <td>Сбербанк России</td>\n",
       "      <td>г. Новосибирск</td>\n",
       "      <td>2015-06-08 11:09:57</td>\n",
       "      <td>0</td>\n",
       "      <td>NaN</td>\n",
       "      <td>False</td>\n",
       "      <td>Доброго дня! Являюсь держателем зарплатной кар...</td>\n",
       "      <td>Не могу пользоваться услугой Сбербанк он-лайн</td>\n",
       "      <td>1026</td>\n",
       "    </tr>\n",
       "    <tr>\n",
       "      <th>2</th>\n",
       "      <td>Vladimir84</td>\n",
       "      <td>лицензия № 2562</td>\n",
       "      <td>Бинбанк</td>\n",
       "      <td>г. Москва</td>\n",
       "      <td>2015-06-05 20:14:28</td>\n",
       "      <td>1</td>\n",
       "      <td>NaN</td>\n",
       "      <td>False</td>\n",
       "      <td>Здравствуйте!  Дублирую свое заявление от 03.0...</td>\n",
       "      <td>Двойное списание за один товар.</td>\n",
       "      <td>588</td>\n",
       "    </tr>\n",
       "  </tbody>\n",
       "</table>\n",
       "</div>"
      ],
      "text/plain": [
       "       author     bank_license        bank_name            city  \\\n",
       "0      uhnov1  лицензия № 2562          Бинбанк       г. Москва   \n",
       "1      Foryou  лицензия № 1481  Сбербанк России  г. Новосибирск   \n",
       "2  Vladimir84  лицензия № 2562          Бинбанк       г. Москва   \n",
       "\n",
       "              datetime  num_comments  rating_grade  rating_not_checked  \\\n",
       "0  2015-06-08 12:50:54             0           NaN               False   \n",
       "1  2015-06-08 11:09:57             0           NaN               False   \n",
       "2  2015-06-05 20:14:28             1           NaN               False   \n",
       "\n",
       "                                                text  \\\n",
       "0  Добрый день! Я не являюсь клиентом банка и пор...   \n",
       "1  Доброго дня! Являюсь держателем зарплатной кар...   \n",
       "2  Здравствуйте!  Дублирую свое заявление от 03.0...   \n",
       "\n",
       "                                           title  text_len_sym  \n",
       "0                                         Жалоба          1523  \n",
       "1  Не могу пользоваться услугой Сбербанк он-лайн          1026  \n",
       "2                Двойное списание за один товар.           588  "
      ]
     },
     "execution_count": 10,
     "metadata": {},
     "output_type": "execute_result"
    }
   ],
   "source": [
    "data.head(3)"
   ]
  },
  {
   "cell_type": "code",
   "execution_count": 11,
   "metadata": {},
   "outputs": [],
   "source": [
    "# считаем длины текстов в словах\n",
    "regex_tokenizer = re.compile(\"[А-Яа-яЁё]+\")\n",
    "def tokenize(text) -> str:\n",
    "    return regex_tokenizer.findall(text)"
   ]
  },
  {
   "cell_type": "code",
   "execution_count": 12,
   "metadata": {},
   "outputs": [
    {
     "name": "stderr",
     "output_type": "stream",
     "text": [
      "100%|████████████████████████████████████████████████████████████████████████| 153499/153499 [00:57<00:00, 2691.20it/s]\n"
     ]
    }
   ],
   "source": [
    "data['text_len_words'] = data.text.progress_apply(tokenize).apply(len)"
   ]
  },
  {
   "cell_type": "code",
   "execution_count": 13,
   "metadata": {},
   "outputs": [
    {
     "data": {
      "text/html": [
       "<div>\n",
       "<style scoped>\n",
       "    .dataframe tbody tr th:only-of-type {\n",
       "        vertical-align: middle;\n",
       "    }\n",
       "\n",
       "    .dataframe tbody tr th {\n",
       "        vertical-align: top;\n",
       "    }\n",
       "\n",
       "    .dataframe thead th {\n",
       "        text-align: right;\n",
       "    }\n",
       "</style>\n",
       "<table border=\"1\" class=\"dataframe\">\n",
       "  <thead>\n",
       "    <tr style=\"text-align: right;\">\n",
       "      <th></th>\n",
       "      <th>author</th>\n",
       "      <th>bank_license</th>\n",
       "      <th>bank_name</th>\n",
       "      <th>city</th>\n",
       "      <th>datetime</th>\n",
       "      <th>num_comments</th>\n",
       "      <th>rating_grade</th>\n",
       "      <th>rating_not_checked</th>\n",
       "      <th>text</th>\n",
       "      <th>title</th>\n",
       "      <th>text_len_sym</th>\n",
       "      <th>text_len_words</th>\n",
       "    </tr>\n",
       "  </thead>\n",
       "  <tbody>\n",
       "    <tr>\n",
       "      <th>0</th>\n",
       "      <td>uhnov1</td>\n",
       "      <td>лицензия № 2562</td>\n",
       "      <td>Бинбанк</td>\n",
       "      <td>г. Москва</td>\n",
       "      <td>2015-06-08 12:50:54</td>\n",
       "      <td>0</td>\n",
       "      <td>NaN</td>\n",
       "      <td>False</td>\n",
       "      <td>Добрый день! Я не являюсь клиентом банка и пор...</td>\n",
       "      <td>Жалоба</td>\n",
       "      <td>1523</td>\n",
       "      <td>213</td>\n",
       "    </tr>\n",
       "    <tr>\n",
       "      <th>1</th>\n",
       "      <td>Foryou</td>\n",
       "      <td>лицензия № 1481</td>\n",
       "      <td>Сбербанк России</td>\n",
       "      <td>г. Новосибирск</td>\n",
       "      <td>2015-06-08 11:09:57</td>\n",
       "      <td>0</td>\n",
       "      <td>NaN</td>\n",
       "      <td>False</td>\n",
       "      <td>Доброго дня! Являюсь держателем зарплатной кар...</td>\n",
       "      <td>Не могу пользоваться услугой Сбербанк он-лайн</td>\n",
       "      <td>1026</td>\n",
       "      <td>135</td>\n",
       "    </tr>\n",
       "    <tr>\n",
       "      <th>2</th>\n",
       "      <td>Vladimir84</td>\n",
       "      <td>лицензия № 2562</td>\n",
       "      <td>Бинбанк</td>\n",
       "      <td>г. Москва</td>\n",
       "      <td>2015-06-05 20:14:28</td>\n",
       "      <td>1</td>\n",
       "      <td>NaN</td>\n",
       "      <td>False</td>\n",
       "      <td>Здравствуйте!  Дублирую свое заявление от 03.0...</td>\n",
       "      <td>Двойное списание за один товар.</td>\n",
       "      <td>588</td>\n",
       "      <td>83</td>\n",
       "    </tr>\n",
       "  </tbody>\n",
       "</table>\n",
       "</div>"
      ],
      "text/plain": [
       "       author     bank_license        bank_name            city  \\\n",
       "0      uhnov1  лицензия № 2562          Бинбанк       г. Москва   \n",
       "1      Foryou  лицензия № 1481  Сбербанк России  г. Новосибирск   \n",
       "2  Vladimir84  лицензия № 2562          Бинбанк       г. Москва   \n",
       "\n",
       "              datetime  num_comments  rating_grade  rating_not_checked  \\\n",
       "0  2015-06-08 12:50:54             0           NaN               False   \n",
       "1  2015-06-08 11:09:57             0           NaN               False   \n",
       "2  2015-06-05 20:14:28             1           NaN               False   \n",
       "\n",
       "                                                text  \\\n",
       "0  Добрый день! Я не являюсь клиентом банка и пор...   \n",
       "1  Доброго дня! Являюсь держателем зарплатной кар...   \n",
       "2  Здравствуйте!  Дублирую свое заявление от 03.0...   \n",
       "\n",
       "                                           title  text_len_sym  text_len_words  \n",
       "0                                         Жалоба          1523             213  \n",
       "1  Не могу пользоваться услугой Сбербанк он-лайн          1026             135  \n",
       "2                Двойное списание за один товар.           588              83  "
      ]
     },
     "execution_count": 13,
     "metadata": {},
     "output_type": "execute_result"
    }
   ],
   "source": [
    "data.head(3)"
   ]
  },
  {
   "cell_type": "code",
   "execution_count": 14,
   "metadata": {},
   "outputs": [
    {
     "data": {
      "text/plain": [
       "<matplotlib.axes._subplots.AxesSubplot at 0x27bca75ce48>"
      ]
     },
     "execution_count": 14,
     "metadata": {},
     "output_type": "execute_result"
    },
    {
     "data": {
      "image/png": "[encoded data removed]",
      "text/plain": [
       "<Figure size 432x288 with 1 Axes>"
      ]
     },
     "metadata": {
      "needs_background": "light"
     },
     "output_type": "display_data"
    }
   ],
   "source": [
    "data.text_len_sym.plot.hist()"
   ]
  },
  {
   "cell_type": "code",
   "execution_count": 15,
   "metadata": {},
   "outputs": [
    {
     "data": {
      "text/plain": [
       "<matplotlib.axes._subplots.AxesSubplot at 0x27c8c2b5cf8>"
      ]
     },
     "execution_count": 15,
     "metadata": {},
     "output_type": "execute_result"
    },
    {
     "data": {
      "image/png": "[encoded data removed]",
      "text/plain": [
       "<Figure size 432x288 with 1 Axes>"
      ]
     },
     "metadata": {
      "needs_background": "light"
     },
     "output_type": "display_data"
    }
   ],
   "source": [
    "data.text_len_words.plot.hist()"
   ]
  },
  {
   "cell_type": "markdown",
   "metadata": {},
   "source": [
    "3, 4. Найти 10 самых частых: \n",
    "\n",
    "    слов, слов без стоп-слов, лемм, существительных"
   ]
  },
  {
   "cell_type": "code",
   "execution_count": 16,
   "metadata": {},
   "outputs": [
    {
     "data": {
      "text/plain": [
       "'Добрый день! Я не являюсь клиентом банка и поручителем по кредитному договору, а также не являюсь каким-либо другим лицом, письменно  оформившим отношения с банком по поводу урегулирования чьей-либо  задолженности.  Начиная с марта 2015 года начали приходить бесконечные письма из ООО \"Примо коллект\"на мой адрес: город Москва, Уваровский переулок, дом 10, квартира 111, с угрозами о возбуждении уголовного дела в отношении гражданина Филиппова Эдуарда Владимировича, который уклоняется от уплаты взятых им кредитов: договор № 81014 от 20.10.2013 года и договор № 2464946 от 09.10.2014 года. Со всей ответственностью\\xa0 хочу Вас заверить, что вышеуказанный гражданин, которого Вы разыскиваете, мне не знаком и никогда в моем адресе не был зарегистрирован. Каким образом Вы не удостоверившись в подлинности его документов оформили на его имя кредитный договор, мне по меньшей мере не понятно,\\xa0 и почему по Вашей милости я должна переживать и бояться за себе и свое имущество. Письма доставляют мне серьезные неудобства, нарушают мои гражданские права, а также нарушают закон о защите персональных данных. Убедительно прошу прекратить посылать на мой адрес письма с угрозами по вопросам, к которым я не имею отношения. В случае отклонения моей претензии буду вынуждена обратиться с жалобами в  другие органы: Росспотребнадзор, Центральный банк, Службу Финансового  омбудсмена. Кроме этого будет подано заявление в полицию и заявление в  суд возмещение причиненного мне морального вреда. Надеюсь на скорое решение моего вопроса.'"
      ]
     },
     "execution_count": 16,
     "metadata": {},
     "output_type": "execute_result"
    }
   ],
   "source": [
    "# находим 10 самых частых слов\n",
    "data.iloc[0].text"
   ]
  },
  {
   "cell_type": "code",
   "execution_count": 17,
   "metadata": {},
   "outputs": [],
   "source": [
    "alltexts = data.text.str.cat(sep='\\n\\n')"
   ]
  },
  {
   "cell_type": "code",
   "execution_count": 18,
   "metadata": {},
   "outputs": [
    {
     "data": {
      "text/plain": [
       "238877105"
      ]
     },
     "execution_count": 18,
     "metadata": {},
     "output_type": "execute_result"
    }
   ],
   "source": [
    "len(alltexts)"
   ]
  },
  {
   "cell_type": "code",
   "execution_count": 19,
   "metadata": {},
   "outputs": [
    {
     "data": {
      "text/plain": [
       "238877"
      ]
     },
     "execution_count": 19,
     "metadata": {},
     "output_type": "execute_result"
    }
   ],
   "source": [
    "# суммарный текст очень длинный, в целях быстродействия сократим его в 1000 раз\n",
    "alltexts = alltexts[: int(len(alltexts) / 1000)]\n",
    "len(alltexts)"
   ]
  },
  {
   "cell_type": "code",
   "execution_count": 20,
   "metadata": {},
   "outputs": [
    {
     "name": "stdout",
     "output_type": "stream",
     "text": [
      "Добрый день! Я не являюсь клиентом банка и поручителем по кредитному договору, а также не являюсь каким-либо другим лицом, письменно  оформившим отношения с банком по поводу урегулирования чьей-либо  задолженности.  Начиная с марта 2015 года начали приходить бесконечные письма из ООО \"Примо коллект\"на мой адрес: город Москва, Уваровский переулок, дом 10, квартира 111, с угрозами о возбуждении уголовного дела в отношении гражданина Филиппова Эдуарда Владимировича, который уклоняется от уплаты взятых им кредитов: договор № 81014 от 20.10.2013 года и договор № 2464946 от 09.10.2014 года. Со всей ответственностью  хочу Вас заверить, что вышеуказанный гражданин, которого Вы разыскиваете, мне не знаком и никогда в моем адресе не был зарегистрирован. Каким образом Вы не удостоверившись в подлинности его документов оформили на его имя кредитный договор, мне по меньшей мере не понятно,  и почему по Вашей милости я должна переживать и бояться за себе и свое имущество. Письма доставляют мне серьезные неудобства, нарушают мои гражданские права, а также нарушают закон о защите персональных данных. Убедительно прошу прекратить посылать на мой адрес письма с угрозами по вопросам, к которым я не имею отношения. В случае отклонения моей претензии буду вынуждена обратиться с жалобами в  другие органы: Росспотребнадзор, Центральный банк, Службу Финансового  омбудсмена. Кроме этого будет подано заявление в полицию и заявление в  суд возмещение причиненного мне морального вреда. Надеюсь на скорое решение моего вопроса.\n",
      "\n",
      "Доброго дня! Являюсь держателем зарплатной карты , выданной Сбербанком России. В 2008 году сменила фамилию, предоставила в банк  документы (копию нового паспорта, свидетельства о браке), мне перевыпустили карту на фамилию мужа ТОКАРЕВА МАРИЯ АЛЕКСАНДРОВНА (девичья  - СЕКЛЕТИНА).   Возникла необходимость подключить услугу Сбербанк онлайн, НЕ ПОЛУЧИЛОСЬ (на главной странице на отображались мои карты). Связалась с техническим специалистом отделения Сбербанка в котором обслу\n"
     ]
    }
   ],
   "source": [
    "print(alltexts[:2000])"
   ]
  },
  {
   "cell_type": "code",
   "execution_count": 21,
   "metadata": {},
   "outputs": [],
   "source": [
    "tokens = tokenize(alltexts)"
   ]
  },
  {
   "cell_type": "code",
   "execution_count": 22,
   "metadata": {},
   "outputs": [
    {
     "data": {
      "text/plain": [
       "35034"
      ]
     },
     "execution_count": 22,
     "metadata": {},
     "output_type": "execute_result"
    }
   ],
   "source": [
    "len(tokens)"
   ]
  },
  {
   "cell_type": "code",
   "execution_count": 24,
   "metadata": {},
   "outputs": [
    {
     "data": {
      "text/plain": [
       "['Добрый',\n",
       " 'день',\n",
       " 'Я',\n",
       " 'не',\n",
       " 'являюсь',\n",
       " 'клиентом',\n",
       " 'банка',\n",
       " 'и',\n",
       " 'поручителем',\n",
       " 'по']"
      ]
     },
     "execution_count": 24,
     "metadata": {},
     "output_type": "execute_result"
    }
   ],
   "source": [
    "tokens[:10]"
   ]
  },
  {
   "cell_type": "code",
   "execution_count": 25,
   "metadata": {},
   "outputs": [
    {
     "data": {
      "text/plain": [
       "[('в', 1149),\n",
       " ('и', 974),\n",
       " ('не', 843),\n",
       " ('на', 645),\n",
       " ('что', 605),\n",
       " ('я', 467),\n",
       " ('с', 437),\n",
       " ('по', 342),\n",
       " ('мне', 295),\n",
       " ('банка', 252)]"
      ]
     },
     "execution_count": 25,
     "metadata": {},
     "output_type": "execute_result"
    }
   ],
   "source": [
    "# 10 самых частых слов\n",
    "from collections import Counter\n",
    "Counter(tokens).most_common(10)"
   ]
  },
  {
   "cell_type": "code",
   "execution_count": 26,
   "metadata": {},
   "outputs": [
    {
     "data": {
      "text/plain": [
       "21984"
      ]
     },
     "execution_count": 26,
     "metadata": {},
     "output_type": "execute_result"
    }
   ],
   "source": [
    "# 10 самых частых слов без стоп-слов\n",
    "from nltk.corpus import stopwords\n",
    "\n",
    "mystopwords = stopwords.words('russian') + ['это', 'наш' , 'тыс', 'млн', 'млрд', 'также',  'т', 'д']\n",
    "def remove_stopwords(tokens: list, stopwords: list) -> list:\n",
    "    return [token for token in tokens if not token.lower() in stopwords]\n",
    "\n",
    "tokens_no_stopwords = remove_stopwords(tokens, mystopwords)\n",
    "len(tokens_no_stopwords)"
   ]
  },
  {
   "cell_type": "code",
   "execution_count": 27,
   "metadata": {},
   "outputs": [
    {
     "name": "stderr",
     "output_type": "stream",
     "text": [
      "Using TensorFlow backend.\n"
     ]
    },
    {
     "name": "stdout",
     "output_type": "stream",
     "text": [
      "WARNING:tensorflow:From C:\\ProgramData\\Anaconda3\\lib\\site-packages\\tensorflow\\python\\framework\\op_def_library.py:263: colocate_with (from tensorflow.python.framework.ops) is deprecated and will be removed in a future version.\n",
      "Instructions for updating:\n",
      "Colocations handled automatically by placer.\n",
      "WARNING:tensorflow:From C:\\ProgramData\\Anaconda3\\lib\\site-packages\\keras\\backend\\tensorflow_backend.py:3445: calling dropout (from tensorflow.python.ops.nn_ops) with keep_prob is deprecated and will be removed in a future version.\n",
      "Instructions for updating:\n",
      "Please use `rate` instead of `keep_prob`. Rate should be set to `rate = 1 - keep_prob`.\n"
     ]
    }
   ],
   "source": [
    "# 10 самых частых лемм\n",
    "# используется ОС Windows, поэтому для лемматизации не применяем mystem из соображений скорости работы\n",
    "from rnnmorph.predictor import RNNMorphPredictor\n",
    "predictor = RNNMorphPredictor(language=\"ru\")\n",
    "\n",
    "def lemmatize(tokens: list) -> list:\n",
    "    forms = predictor.predict(tokens)\n",
    "    return [form.normal_form for form in forms]"
   ]
  },
  {
   "cell_type": "code",
   "execution_count": 28,
   "metadata": {},
   "outputs": [
    {
     "data": {
      "text/plain": [
       "[('в', 1325),\n",
       " ('я', 1148),\n",
       " ('и', 1038),\n",
       " ('не', 892),\n",
       " ('на', 716),\n",
       " ('банк', 689),\n",
       " ('что', 686),\n",
       " ('быть', 484),\n",
       " ('с', 470),\n",
       " ('он', 379)]"
      ]
     },
     "execution_count": 28,
     "metadata": {},
     "output_type": "execute_result"
    }
   ],
   "source": [
    "lemmas = lemmatize(tokens)\n",
    "Counter(lemmas).most_common(10)"
   ]
  },
  {
   "cell_type": "code",
   "execution_count": 29,
   "metadata": {},
   "outputs": [
    {
     "data": {
      "text/plain": [
       "[('банка', 252),\n",
       " ('банк', 179),\n",
       " ('карты', 116),\n",
       " ('деньги', 109),\n",
       " ('карту', 98),\n",
       " ('кредит', 89),\n",
       " ('года', 84),\n",
       " ('раз', 69),\n",
       " ('Банк', 69),\n",
       " ('банке', 69)]"
      ]
     },
     "execution_count": 29,
     "metadata": {},
     "output_type": "execute_result"
    }
   ],
   "source": [
    "# 10 самых частых существительных\n",
    "nouns = [form.word for form in predictor.predict(tokens) if form.pos == 'NOUN']\n",
    "Counter(nouns).most_common(10)"
   ]
  },
  {
   "cell_type": "markdown",
   "metadata": {},
   "source": [
    "5. Построить кривые Ципфа и Хипса"
   ]
  },
  {
   "cell_type": "code",
   "execution_count": 30,
   "metadata": {},
   "outputs": [
    {
     "name": "stderr",
     "output_type": "stream",
     "text": [
      "100%|█████████████████████████████████████████████████████████████████████████| 153499/153499 [13:32<00:00, 189.02it/s]\n"
     ]
    }
   ],
   "source": [
    "cnt = Counter()\n",
    "n_tokens, n_types = [], []\n",
    "for index, row in tqdm(data.iterrows(), total=len(data)):\n",
    "    row_tokens = tokenize(row.text)\n",
    "    cnt.update(row_tokens)\n",
    "    n_types.append(len(cnt))\n",
    "    n_tokens.append(sum(cnt.values()))"
   ]
  },
  {
   "cell_type": "code",
   "execution_count": 31,
   "metadata": {},
   "outputs": [
    {
     "data": {
      "text/plain": [
       "[<matplotlib.lines.Line2D at 0x27b8cc34f98>]"
      ]
     },
     "execution_count": 31,
     "metadata": {},
     "output_type": "execute_result"
    },
    {
     "data": {
      "image/png": "[encoded data removed]",
      "text/plain": [
       "<Figure size 432x288 with 1 Axes>"
      ]
     },
     "metadata": {
      "needs_background": "light"
     },
     "output_type": "display_data"
    }
   ],
   "source": [
    "# кривая Ципфа\n",
    "freqs = list(cnt.values())\n",
    "freqs = sorted(freqs, reverse=True)\n",
    "freqs_range = 500\n",
    "plt.plot(freqs[:freqs_range], range(0, freqs_range))"
   ]
  },
  {
   "cell_type": "code",
   "execution_count": 32,
   "metadata": {},
   "outputs": [
    {
     "data": {
      "text/plain": [
       "[<matplotlib.lines.Line2D at 0x27bca2b2b38>]"
      ]
     },
     "execution_count": 32,
     "metadata": {},
     "output_type": "execute_result"
    },
    {
     "data": {
      "image/png": "[encoded data removed]",
      "text/plain": [
       "<Figure size 432x288 with 1 Axes>"
      ]
     },
     "metadata": {
      "needs_background": "light"
     },
     "output_type": "display_data"
    }
   ],
   "source": [
    "# кривая Хипса\n",
    "plt.plot(n_tokens, n_types)"
   ]
  },
  {
   "cell_type": "markdown",
   "metadata": {},
   "source": [
    "6. Ответьте на следующие вопросы:\n",
    "\n",
    "    - какое слово встречается чаще, \"сотрудник\" или \"клиент\"\n",
    "    - сколько раз встречаются слова \"мошенничество\" и \"доверие\""
   ]
  },
  {
   "cell_type": "code",
   "execution_count": 33,
   "metadata": {},
   "outputs": [
    {
     "name": "stdout",
     "output_type": "stream",
     "text": [
      "Слово \"сотрудник\" встречается 24693 раз\n",
      "Слово \"клиент\" встречается 17561 раз\n",
      "Слово сотрудник встречается чаще\n"
     ]
    }
   ],
   "source": [
    "print(f'Слово \"сотрудник\" встречается {cnt[\"сотрудник\"]} раз')\n",
    "print(f'Слово \"клиент\" встречается {cnt[\"клиент\"]} раз')\n",
    "print(f'Слово {\"сотрудник\" if cnt[\"сотрудник\"] >= cnt[\"клиент\"] else \"клиент\"} встречается чаще')"
   ]
  },
  {
   "cell_type": "code",
   "execution_count": 34,
   "metadata": {},
   "outputs": [
    {
     "name": "stdout",
     "output_type": "stream",
     "text": [
      "Слово \"мошенничество\" встречается 976 раз\n",
      "Слово \"доверие\" встречается 1025 раз\n"
     ]
    }
   ],
   "source": [
    "print(f'Слово \"мошенничество\" встречается {cnt[\"мошенничество\"]} раз')\n",
    "print(f'Слово \"доверие\" встречается {cnt[\"доверие\"]} раз')"
   ]
  },
  {
   "cell_type": "markdown",
   "metadata": {},
   "source": [
    "7. В поле rating_grade записана оценка от 1 до 5. \n",
    "\n",
    "    Использовать tf-idf, чтобы найти ключевые слова и биграммы для положительных отзывов (оценка 5) и отрицательных отзывов (оценка 1)."
   ]
  },
  {
   "cell_type": "code",
   "execution_count": 35,
   "metadata": {},
   "outputs": [],
   "source": [
    "mystoplemmas = ['который','прошлый','сей', 'свой', 'наш', 'мочь', 'год']\n",
    "def remove_stoplemmas(tokens):\n",
    "    return [token for token in tokens if token not in mystoplemmas]"
   ]
  },
  {
   "cell_type": "code",
   "execution_count": 36,
   "metadata": {},
   "outputs": [],
   "source": [
    "def preprocess_text(text) -> list:\n",
    "    tokens = tokenize(text.lower())\n",
    "    tokens_nostop = remove_stopwords(tokens, mystopwords)\n",
    "    lemmas = lemmatize(tokens_nostop)\n",
    "    return remove_stoplemmas(lemmas)"
   ]
  },
  {
   "cell_type": "code",
   "execution_count": 37,
   "metadata": {},
   "outputs": [
    {
     "data": {
      "text/plain": [
       "1.0    47387\n",
       "5.0    14713\n",
       "2.0    13509\n",
       "3.0     9261\n",
       "4.0     3788\n",
       "Name: rating_grade, dtype: int64"
      ]
     },
     "execution_count": 37,
     "metadata": {},
     "output_type": "execute_result"
    }
   ],
   "source": [
    "data.rating_grade.value_counts()"
   ]
  },
  {
   "cell_type": "code",
   "execution_count": 38,
   "metadata": {},
   "outputs": [],
   "source": [
    "# собираем тексты отрицательных отзывов\n",
    "ratings_bad = data[data.rating_grade == 1]"
   ]
  },
  {
   "cell_type": "code",
   "execution_count": 39,
   "metadata": {},
   "outputs": [],
   "source": [
    "# сделаем выборку, иначе очень долго считается\n",
    "ratings_bad = ratings_bad.sample(n=int(len(ratings_bad) / 50))"
   ]
  },
  {
   "cell_type": "code",
   "execution_count": 40,
   "metadata": {},
   "outputs": [
    {
     "name": "stderr",
     "output_type": "stream",
     "text": [
      "100%|████████████████████████████████████████████████████████████████████████████████| 947/947 [03:34<00:00,  6.79it/s]\n"
     ]
    }
   ],
   "source": [
    "tokens_bad = []\n",
    "for i in tqdm(range(len(ratings_bad))):\n",
    "    tokens_bad += preprocess_text(ratings_bad.text.iloc[i])"
   ]
  },
  {
   "cell_type": "code",
   "execution_count": 41,
   "metadata": {},
   "outputs": [
    {
     "data": {
      "text/plain": [
       "149222"
      ]
     },
     "execution_count": 41,
     "metadata": {},
     "output_type": "execute_result"
    }
   ],
   "source": [
    "len(tokens_bad)"
   ]
  },
  {
   "cell_type": "code",
   "execution_count": 42,
   "metadata": {},
   "outputs": [],
   "source": [
    "# собираем тексты положительных отзывов, аналогично делаем выборку\n",
    "ratings_good = data[data.rating_grade == 5]\n",
    "ratings_good = ratings_good.sample(n=int(len(ratings_good) / 50))"
   ]
  },
  {
   "cell_type": "code",
   "execution_count": 43,
   "metadata": {},
   "outputs": [
    {
     "name": "stderr",
     "output_type": "stream",
     "text": [
      "100%|████████████████████████████████████████████████████████████████████████████████| 294/294 [00:53<00:00,  6.28it/s]\n"
     ]
    }
   ],
   "source": [
    "tokens_good = []\n",
    "for i in tqdm(range(len(ratings_good))):\n",
    "    tokens_good += preprocess_text(ratings_good.text.iloc[i])"
   ]
  },
  {
   "cell_type": "code",
   "execution_count": 44,
   "metadata": {},
   "outputs": [
    {
     "data": {
      "text/plain": [
       "39966"
      ]
     },
     "execution_count": 44,
     "metadata": {},
     "output_type": "execute_result"
    }
   ],
   "source": [
    "len(tokens_good)"
   ]
  },
  {
   "cell_type": "code",
   "execution_count": 45,
   "metadata": {},
   "outputs": [],
   "source": [
    "tokens_by_rating = [tokens_good, tokens_bad]"
   ]
  },
  {
   "cell_type": "code",
   "execution_count": 46,
   "metadata": {},
   "outputs": [],
   "source": [
    "# tf-idf процедура, чтобы не повторять код\n",
    "from sklearn.feature_extraction.text import TfidfVectorizer\n",
    "\n",
    "def tfidf_rankings(tokens_grouped: list, group_id: int, num_words: int) -> pd.DataFrame:\n",
    "    tfidf = TfidfVectorizer(analyzer='word', ngram_range=(num_words, num_words), min_df=0)\n",
    "    tfidf_matrix = tfidf.fit_transform([' '.join(tokens) for tokens in tokens_grouped])\n",
    "    feature_names = tfidf.get_feature_names() \n",
    "    tfidf_ranking = []\n",
    "    dense = tfidf_matrix.todense()\n",
    "    text = dense[group_id].tolist()[0]\n",
    "    phrase_scores = [pair for pair in zip(range(0, len(text)), text) if pair[1] > 0]\n",
    "    sorted_phrase_scores = sorted(phrase_scores, key=lambda t: t[1] * -1)\n",
    "    phrases = []\n",
    "    for phrase, score in [(feature_names[word_id], score) for (word_id, score) in sorted_phrase_scores][:40]:\n",
    "        tfidf_ranking.append(phrase)\n",
    "    return pd.DataFrame({'tf-idf': tfidf_ranking})"
   ]
  },
  {
   "cell_type": "code",
   "execution_count": 47,
   "metadata": {},
   "outputs": [
    {
     "data": {
      "text/html": [
       "<div>\n",
       "<style scoped>\n",
       "    .dataframe tbody tr th:only-of-type {\n",
       "        vertical-align: middle;\n",
       "    }\n",
       "\n",
       "    .dataframe tbody tr th {\n",
       "        vertical-align: top;\n",
       "    }\n",
       "\n",
       "    .dataframe thead th {\n",
       "        text-align: right;\n",
       "    }\n",
       "</style>\n",
       "<table border=\"1\" class=\"dataframe\">\n",
       "  <thead>\n",
       "    <tr style=\"text-align: right;\">\n",
       "      <th></th>\n",
       "      <th>tf-idf</th>\n",
       "    </tr>\n",
       "  </thead>\n",
       "  <tbody>\n",
       "    <tr>\n",
       "      <th>0</th>\n",
       "      <td>банк</td>\n",
       "    </tr>\n",
       "    <tr>\n",
       "      <th>1</th>\n",
       "      <td>карта</td>\n",
       "    </tr>\n",
       "    <tr>\n",
       "      <th>2</th>\n",
       "      <td>очень</td>\n",
       "    </tr>\n",
       "    <tr>\n",
       "      <th>3</th>\n",
       "      <td>день</td>\n",
       "    </tr>\n",
       "    <tr>\n",
       "      <th>4</th>\n",
       "      <td>кредит</td>\n",
       "    </tr>\n",
       "    <tr>\n",
       "      <th>5</th>\n",
       "      <td>отделение</td>\n",
       "    </tr>\n",
       "    <tr>\n",
       "      <th>6</th>\n",
       "      <td>клиент</td>\n",
       "    </tr>\n",
       "    <tr>\n",
       "      <th>7</th>\n",
       "      <td>деньга</td>\n",
       "    </tr>\n",
       "    <tr>\n",
       "      <th>8</th>\n",
       "      <td>вклад</td>\n",
       "    </tr>\n",
       "    <tr>\n",
       "      <th>9</th>\n",
       "      <td>банка</td>\n",
       "    </tr>\n",
       "    <tr>\n",
       "      <th>10</th>\n",
       "      <td>мой</td>\n",
       "    </tr>\n",
       "    <tr>\n",
       "      <th>11</th>\n",
       "      <td>сотрудник</td>\n",
       "    </tr>\n",
       "    <tr>\n",
       "      <th>12</th>\n",
       "      <td>один</td>\n",
       "    </tr>\n",
       "    <tr>\n",
       "      <th>13</th>\n",
       "      <td>время</td>\n",
       "    </tr>\n",
       "    <tr>\n",
       "      <th>14</th>\n",
       "      <td>офис</td>\n",
       "    </tr>\n",
       "    <tr>\n",
       "      <th>15</th>\n",
       "      <td>счёт</td>\n",
       "    </tr>\n",
       "    <tr>\n",
       "      <th>16</th>\n",
       "      <td>весь</td>\n",
       "    </tr>\n",
       "    <tr>\n",
       "      <th>17</th>\n",
       "      <td>обслуживание</td>\n",
       "    </tr>\n",
       "    <tr>\n",
       "      <th>18</th>\n",
       "      <td>вопрос</td>\n",
       "    </tr>\n",
       "    <tr>\n",
       "      <th>19</th>\n",
       "      <td>другой</td>\n",
       "    </tr>\n",
       "  </tbody>\n",
       "</table>\n",
       "</div>"
      ],
      "text/plain": [
       "          tf-idf\n",
       "0           банк\n",
       "1          карта\n",
       "2          очень\n",
       "3           день\n",
       "4         кредит\n",
       "5      отделение\n",
       "6         клиент\n",
       "7         деньга\n",
       "8          вклад\n",
       "9          банка\n",
       "10           мой\n",
       "11     сотрудник\n",
       "12          один\n",
       "13         время\n",
       "14          офис\n",
       "15          счёт\n",
       "16          весь\n",
       "17  обслуживание\n",
       "18        вопрос\n",
       "19        другой"
      ]
     },
     "execution_count": 47,
     "metadata": {},
     "output_type": "execute_result"
    }
   ],
   "source": [
    "# ключевые слова для хороших отзывов\n",
    "tfidf_rankings(tokens_by_rating, 0, 1).head(20)"
   ]
  },
  {
   "cell_type": "code",
   "execution_count": 48,
   "metadata": {},
   "outputs": [
    {
     "data": {
      "text/html": [
       "<div>\n",
       "<style scoped>\n",
       "    .dataframe tbody tr th:only-of-type {\n",
       "        vertical-align: middle;\n",
       "    }\n",
       "\n",
       "    .dataframe tbody tr th {\n",
       "        vertical-align: top;\n",
       "    }\n",
       "\n",
       "    .dataframe thead th {\n",
       "        text-align: right;\n",
       "    }\n",
       "</style>\n",
       "<table border=\"1\" class=\"dataframe\">\n",
       "  <thead>\n",
       "    <tr style=\"text-align: right;\">\n",
       "      <th></th>\n",
       "      <th>tf-idf</th>\n",
       "    </tr>\n",
       "  </thead>\n",
       "  <tbody>\n",
       "    <tr>\n",
       "      <th>0</th>\n",
       "      <td>банк</td>\n",
       "    </tr>\n",
       "    <tr>\n",
       "      <th>1</th>\n",
       "      <td>карта</td>\n",
       "    </tr>\n",
       "    <tr>\n",
       "      <th>2</th>\n",
       "      <td>деньга</td>\n",
       "    </tr>\n",
       "    <tr>\n",
       "      <th>3</th>\n",
       "      <td>отделение</td>\n",
       "    </tr>\n",
       "    <tr>\n",
       "      <th>4</th>\n",
       "      <td>день</td>\n",
       "    </tr>\n",
       "    <tr>\n",
       "      <th>5</th>\n",
       "      <td>мой</td>\n",
       "    </tr>\n",
       "    <tr>\n",
       "      <th>6</th>\n",
       "      <td>счёт</td>\n",
       "    </tr>\n",
       "    <tr>\n",
       "      <th>7</th>\n",
       "      <td>кредит</td>\n",
       "    </tr>\n",
       "    <tr>\n",
       "      <th>8</th>\n",
       "      <td>сотрудник</td>\n",
       "    </tr>\n",
       "    <tr>\n",
       "      <th>9</th>\n",
       "      <td>клиент</td>\n",
       "    </tr>\n",
       "    <tr>\n",
       "      <th>10</th>\n",
       "      <td>сказать</td>\n",
       "    </tr>\n",
       "    <tr>\n",
       "      <th>11</th>\n",
       "      <td>сумма</td>\n",
       "    </tr>\n",
       "    <tr>\n",
       "      <th>12</th>\n",
       "      <td>заявление</td>\n",
       "    </tr>\n",
       "    <tr>\n",
       "      <th>13</th>\n",
       "      <td>рубль</td>\n",
       "    </tr>\n",
       "    <tr>\n",
       "      <th>14</th>\n",
       "      <td>один</td>\n",
       "    </tr>\n",
       "    <tr>\n",
       "      <th>15</th>\n",
       "      <td>вопрос</td>\n",
       "    </tr>\n",
       "    <tr>\n",
       "      <th>16</th>\n",
       "      <td>время</td>\n",
       "    </tr>\n",
       "    <tr>\n",
       "      <th>17</th>\n",
       "      <td>получить</td>\n",
       "    </tr>\n",
       "    <tr>\n",
       "      <th>18</th>\n",
       "      <td>ответ</td>\n",
       "    </tr>\n",
       "    <tr>\n",
       "      <th>19</th>\n",
       "      <td>банка</td>\n",
       "    </tr>\n",
       "  </tbody>\n",
       "</table>\n",
       "</div>"
      ],
      "text/plain": [
       "       tf-idf\n",
       "0        банк\n",
       "1       карта\n",
       "2      деньга\n",
       "3   отделение\n",
       "4        день\n",
       "5         мой\n",
       "6        счёт\n",
       "7      кредит\n",
       "8   сотрудник\n",
       "9      клиент\n",
       "10    сказать\n",
       "11      сумма\n",
       "12  заявление\n",
       "13      рубль\n",
       "14       один\n",
       "15     вопрос\n",
       "16      время\n",
       "17   получить\n",
       "18      ответ\n",
       "19      банка"
      ]
     },
     "execution_count": 48,
     "metadata": {},
     "output_type": "execute_result"
    }
   ],
   "source": [
    "# ключевые слова для плохих отзывов\n",
    "tfidf_rankings(tokens_by_rating, 1, 1).head(20)"
   ]
  },
  {
   "cell_type": "code",
   "execution_count": 49,
   "metadata": {},
   "outputs": [
    {
     "data": {
      "text/html": [
       "<div>\n",
       "<style scoped>\n",
       "    .dataframe tbody tr th:only-of-type {\n",
       "        vertical-align: middle;\n",
       "    }\n",
       "\n",
       "    .dataframe tbody tr th {\n",
       "        vertical-align: top;\n",
       "    }\n",
       "\n",
       "    .dataframe thead th {\n",
       "        text-align: right;\n",
       "    }\n",
       "</style>\n",
       "<table border=\"1\" class=\"dataframe\">\n",
       "  <thead>\n",
       "    <tr style=\"text-align: right;\">\n",
       "      <th></th>\n",
       "      <th>tf-idf</th>\n",
       "    </tr>\n",
       "  </thead>\n",
       "  <tbody>\n",
       "    <tr>\n",
       "      <th>0</th>\n",
       "      <td>сотрудник банк</td>\n",
       "    </tr>\n",
       "    <tr>\n",
       "      <th>1</th>\n",
       "      <td>интернет банк</td>\n",
       "    </tr>\n",
       "    <tr>\n",
       "      <th>2</th>\n",
       "      <td>кредитный карта</td>\n",
       "    </tr>\n",
       "    <tr>\n",
       "      <th>3</th>\n",
       "      <td>другой банка</td>\n",
       "    </tr>\n",
       "    <tr>\n",
       "      <th>4</th>\n",
       "      <td>следующий день</td>\n",
       "    </tr>\n",
       "    <tr>\n",
       "      <th>5</th>\n",
       "      <td>другой банк</td>\n",
       "    </tr>\n",
       "    <tr>\n",
       "      <th>6</th>\n",
       "      <td>дебетовый карта</td>\n",
       "    </tr>\n",
       "    <tr>\n",
       "      <th>7</th>\n",
       "      <td>клиент банк</td>\n",
       "    </tr>\n",
       "    <tr>\n",
       "      <th>8</th>\n",
       "      <td>открыть вклад</td>\n",
       "    </tr>\n",
       "    <tr>\n",
       "      <th>9</th>\n",
       "      <td>очень удобно</td>\n",
       "    </tr>\n",
       "    <tr>\n",
       "      <th>10</th>\n",
       "      <td>являться клиент</td>\n",
       "    </tr>\n",
       "    <tr>\n",
       "      <th>11</th>\n",
       "      <td>добрый день</td>\n",
       "    </tr>\n",
       "    <tr>\n",
       "      <th>12</th>\n",
       "      <td>отделение банк</td>\n",
       "    </tr>\n",
       "    <tr>\n",
       "      <th>13</th>\n",
       "      <td>банк очень</td>\n",
       "    </tr>\n",
       "    <tr>\n",
       "      <th>14</th>\n",
       "      <td>досрочный погашение</td>\n",
       "    </tr>\n",
       "    <tr>\n",
       "      <th>15</th>\n",
       "      <td>написать заявление</td>\n",
       "    </tr>\n",
       "    <tr>\n",
       "      <th>16</th>\n",
       "      <td>очень быстро</td>\n",
       "    </tr>\n",
       "    <tr>\n",
       "      <th>17</th>\n",
       "      <td>положительный решение</td>\n",
       "    </tr>\n",
       "    <tr>\n",
       "      <th>18</th>\n",
       "      <td>очень приятно</td>\n",
       "    </tr>\n",
       "    <tr>\n",
       "      <th>19</th>\n",
       "      <td>колл центр</td>\n",
       "    </tr>\n",
       "  </tbody>\n",
       "</table>\n",
       "</div>"
      ],
      "text/plain": [
       "                   tf-idf\n",
       "0          сотрудник банк\n",
       "1           интернет банк\n",
       "2         кредитный карта\n",
       "3            другой банка\n",
       "4          следующий день\n",
       "5             другой банк\n",
       "6         дебетовый карта\n",
       "7             клиент банк\n",
       "8           открыть вклад\n",
       "9            очень удобно\n",
       "10        являться клиент\n",
       "11            добрый день\n",
       "12         отделение банк\n",
       "13             банк очень\n",
       "14    досрочный погашение\n",
       "15     написать заявление\n",
       "16           очень быстро\n",
       "17  положительный решение\n",
       "18          очень приятно\n",
       "19             колл центр"
      ]
     },
     "execution_count": 49,
     "metadata": {},
     "output_type": "execute_result"
    }
   ],
   "source": [
    "# ключевые биграммы для хороших отзывов\n",
    "tfidf_rankings(tokens_by_rating, 0, 2).head(20)"
   ]
  },
  {
   "cell_type": "code",
   "execution_count": 50,
   "metadata": {},
   "outputs": [
    {
     "data": {
      "text/html": [
       "<div>\n",
       "<style scoped>\n",
       "    .dataframe tbody tr th:only-of-type {\n",
       "        vertical-align: middle;\n",
       "    }\n",
       "\n",
       "    .dataframe tbody tr th {\n",
       "        vertical-align: top;\n",
       "    }\n",
       "\n",
       "    .dataframe thead th {\n",
       "        text-align: right;\n",
       "    }\n",
       "</style>\n",
       "<table border=\"1\" class=\"dataframe\">\n",
       "  <thead>\n",
       "    <tr style=\"text-align: right;\">\n",
       "      <th></th>\n",
       "      <th>tf-idf</th>\n",
       "    </tr>\n",
       "  </thead>\n",
       "  <tbody>\n",
       "    <tr>\n",
       "      <th>0</th>\n",
       "      <td>сотрудник банк</td>\n",
       "    </tr>\n",
       "    <tr>\n",
       "      <th>1</th>\n",
       "      <td>кредитный карта</td>\n",
       "    </tr>\n",
       "    <tr>\n",
       "      <th>2</th>\n",
       "      <td>отделение банк</td>\n",
       "    </tr>\n",
       "    <tr>\n",
       "      <th>3</th>\n",
       "      <td>денежный средство</td>\n",
       "    </tr>\n",
       "    <tr>\n",
       "      <th>4</th>\n",
       "      <td>горячий линия</td>\n",
       "    </tr>\n",
       "    <tr>\n",
       "      <th>5</th>\n",
       "      <td>написать заявление</td>\n",
       "    </tr>\n",
       "    <tr>\n",
       "      <th>6</th>\n",
       "      <td>отп банк</td>\n",
       "    </tr>\n",
       "    <tr>\n",
       "      <th>7</th>\n",
       "      <td>клиент банк</td>\n",
       "    </tr>\n",
       "    <tr>\n",
       "      <th>8</th>\n",
       "      <td>следующий день</td>\n",
       "    </tr>\n",
       "    <tr>\n",
       "      <th>9</th>\n",
       "      <td>альфа банк</td>\n",
       "    </tr>\n",
       "    <tr>\n",
       "      <th>10</th>\n",
       "      <td>колл центр</td>\n",
       "    </tr>\n",
       "    <tr>\n",
       "      <th>11</th>\n",
       "      <td>ваш банк</td>\n",
       "    </tr>\n",
       "    <tr>\n",
       "      <th>12</th>\n",
       "      <td>рабочий день</td>\n",
       "    </tr>\n",
       "    <tr>\n",
       "      <th>13</th>\n",
       "      <td>служба поддержка</td>\n",
       "    </tr>\n",
       "    <tr>\n",
       "      <th>14</th>\n",
       "      <td>кредитный история</td>\n",
       "    </tr>\n",
       "    <tr>\n",
       "      <th>15</th>\n",
       "      <td>интернет банк</td>\n",
       "    </tr>\n",
       "    <tr>\n",
       "      <th>16</th>\n",
       "      <td>добрый день</td>\n",
       "    </tr>\n",
       "    <tr>\n",
       "      <th>17</th>\n",
       "      <td>оао отп</td>\n",
       "    </tr>\n",
       "    <tr>\n",
       "      <th>18</th>\n",
       "      <td>сумма рубль</td>\n",
       "    </tr>\n",
       "    <tr>\n",
       "      <th>19</th>\n",
       "      <td>досрочный погашение</td>\n",
       "    </tr>\n",
       "  </tbody>\n",
       "</table>\n",
       "</div>"
      ],
      "text/plain": [
       "                 tf-idf\n",
       "0        сотрудник банк\n",
       "1       кредитный карта\n",
       "2        отделение банк\n",
       "3     денежный средство\n",
       "4         горячий линия\n",
       "5    написать заявление\n",
       "6              отп банк\n",
       "7           клиент банк\n",
       "8        следующий день\n",
       "9            альфа банк\n",
       "10           колл центр\n",
       "11             ваш банк\n",
       "12         рабочий день\n",
       "13     служба поддержка\n",
       "14    кредитный история\n",
       "15        интернет банк\n",
       "16          добрый день\n",
       "17              оао отп\n",
       "18          сумма рубль\n",
       "19  досрочный погашение"
      ]
     },
     "execution_count": 50,
     "metadata": {},
     "output_type": "execute_result"
    }
   ],
   "source": [
    "# ключевые биграммы для плохих отзывов\n",
    "tfidf_rankings(tokens_by_rating, 1, 2).head(20)"
   ]
  },
  {
   "cell_type": "markdown",
   "metadata": {},
   "source": [
    "### Часть 2. Тематическое моделирование\n",
    "\n",
    "1. Постройте несколько тематических моделей коллекции документов с разным числом тем. Приведите примеры понятных (интерпретируемых) тем.\n",
    "2. Найдите темы, в которых упомянуты конкретные банки. Можете ли вы их прокомментировать/объяснить?"
   ]
  },
  {
   "cell_type": "code",
   "execution_count": 51,
   "metadata": {},
   "outputs": [
    {
     "data": {
      "text/html": [
       "<div>\n",
       "<style scoped>\n",
       "    .dataframe tbody tr th:only-of-type {\n",
       "        vertical-align: middle;\n",
       "    }\n",
       "\n",
       "    .dataframe tbody tr th {\n",
       "        vertical-align: top;\n",
       "    }\n",
       "\n",
       "    .dataframe thead th {\n",
       "        text-align: right;\n",
       "    }\n",
       "</style>\n",
       "<table border=\"1\" class=\"dataframe\">\n",
       "  <thead>\n",
       "    <tr style=\"text-align: right;\">\n",
       "      <th></th>\n",
       "      <th>author</th>\n",
       "      <th>bank_license</th>\n",
       "      <th>bank_name</th>\n",
       "      <th>city</th>\n",
       "      <th>datetime</th>\n",
       "      <th>num_comments</th>\n",
       "      <th>rating_grade</th>\n",
       "      <th>rating_not_checked</th>\n",
       "      <th>text</th>\n",
       "      <th>title</th>\n",
       "      <th>text_len_sym</th>\n",
       "      <th>text_len_words</th>\n",
       "    </tr>\n",
       "  </thead>\n",
       "  <tbody>\n",
       "    <tr>\n",
       "      <th>0</th>\n",
       "      <td>uhnov1</td>\n",
       "      <td>лицензия № 2562</td>\n",
       "      <td>Бинбанк</td>\n",
       "      <td>г. Москва</td>\n",
       "      <td>2015-06-08 12:50:54</td>\n",
       "      <td>0</td>\n",
       "      <td>NaN</td>\n",
       "      <td>False</td>\n",
       "      <td>Добрый день! Я не являюсь клиентом банка и пор...</td>\n",
       "      <td>Жалоба</td>\n",
       "      <td>1523</td>\n",
       "      <td>213</td>\n",
       "    </tr>\n",
       "    <tr>\n",
       "      <th>1</th>\n",
       "      <td>Foryou</td>\n",
       "      <td>лицензия № 1481</td>\n",
       "      <td>Сбербанк России</td>\n",
       "      <td>г. Новосибирск</td>\n",
       "      <td>2015-06-08 11:09:57</td>\n",
       "      <td>0</td>\n",
       "      <td>NaN</td>\n",
       "      <td>False</td>\n",
       "      <td>Доброго дня! Являюсь держателем зарплатной кар...</td>\n",
       "      <td>Не могу пользоваться услугой Сбербанк он-лайн</td>\n",
       "      <td>1026</td>\n",
       "      <td>135</td>\n",
       "    </tr>\n",
       "  </tbody>\n",
       "</table>\n",
       "</div>"
      ],
      "text/plain": [
       "   author     bank_license        bank_name            city  \\\n",
       "0  uhnov1  лицензия № 2562          Бинбанк       г. Москва   \n",
       "1  Foryou  лицензия № 1481  Сбербанк России  г. Новосибирск   \n",
       "\n",
       "              datetime  num_comments  rating_grade  rating_not_checked  \\\n",
       "0  2015-06-08 12:50:54             0           NaN               False   \n",
       "1  2015-06-08 11:09:57             0           NaN               False   \n",
       "\n",
       "                                                text  \\\n",
       "0  Добрый день! Я не являюсь клиентом банка и пор...   \n",
       "1  Доброго дня! Являюсь держателем зарплатной кар...   \n",
       "\n",
       "                                           title  text_len_sym  text_len_words  \n",
       "0                                         Жалоба          1523             213  \n",
       "1  Не могу пользоваться услугой Сбербанк он-лайн          1026             135  "
      ]
     },
     "execution_count": 51,
     "metadata": {},
     "output_type": "execute_result"
    }
   ],
   "source": [
    "data.head(2)"
   ]
  },
  {
   "cell_type": "code",
   "execution_count": 52,
   "metadata": {},
   "outputs": [],
   "source": [
    "# делаем выборку данных, чтобы считалось быстрее\n",
    "data_samples = data.sample(n=int(len(data)/100))"
   ]
  },
  {
   "cell_type": "code",
   "execution_count": 53,
   "metadata": {},
   "outputs": [
    {
     "data": {
      "text/plain": [
       "1534"
      ]
     },
     "execution_count": 53,
     "metadata": {},
     "output_type": "execute_result"
    }
   ],
   "source": [
    "len(data_samples)"
   ]
  },
  {
   "cell_type": "code",
   "execution_count": 54,
   "metadata": {},
   "outputs": [
    {
     "name": "stderr",
     "output_type": "stream",
     "text": [
      "100%|██████████████████████████████████████████████████████████████████████████████| 1534/1534 [05:43<00:00,  4.46it/s]\n"
     ]
    }
   ],
   "source": [
    "texts = []\n",
    "\n",
    "for i in tqdm(range(len(data_samples))):\n",
    "     texts.append(preprocess_text(data_samples.iloc[i].text))"
   ]
  },
  {
   "cell_type": "code",
   "execution_count": 55,
   "metadata": {},
   "outputs": [
    {
     "data": {
      "text/plain": [
       "1534"
      ]
     },
     "execution_count": 55,
     "metadata": {},
     "output_type": "execute_result"
    }
   ],
   "source": [
    "len(texts)"
   ]
  },
  {
   "cell_type": "code",
   "execution_count": 57,
   "metadata": {},
   "outputs": [
    {
     "name": "stderr",
     "output_type": "stream",
     "text": [
      "C:\\ProgramData\\Anaconda3\\lib\\site-packages\\gensim\\utils.py:1197: UserWarning: detected Windows; aliasing chunkize to chunkize_serial\n",
      "  warnings.warn(\"detected Windows; aliasing chunkize to chunkize_serial\")\n"
     ]
    }
   ],
   "source": [
    "from gensim import corpora, models\n",
    "dictionary = corpora.Dictionary(texts)\n",
    "corpus = [dictionary.doc2bow(text) for text in texts]"
   ]
  },
  {
   "cell_type": "code",
   "execution_count": 58,
   "metadata": {},
   "outputs": [],
   "source": [
    "# рассмотрим пять тем\n",
    "lda = models.LdaModel(corpus, num_topics=5, id2word=dictionary, passes=5)"
   ]
  },
  {
   "cell_type": "code",
   "execution_count": 59,
   "metadata": {},
   "outputs": [
    {
     "data": {
      "text/plain": [
       "[(0,\n",
       "  '0.023*\"банк\" + 0.016*\"кредит\" + 0.010*\"мой\" + 0.009*\"день\" + 0.008*\"заявление\" + 0.007*\"карта\" + 0.007*\"кредитный\" + 0.007*\"договор\" + 0.007*\"сотрудник\" + 0.007*\"сумма\" + 0.007*\"рубль\" + 0.006*\"отделение\" + 0.006*\"сказать\" + 0.006*\"номер\" + 0.005*\"деньга\" + 0.005*\"банка\" + 0.005*\"вопрос\" + 0.004*\"сбербанк\" + 0.004*\"платёж\" + 0.004*\"звонить\"'),\n",
       " (1,\n",
       "  '0.026*\"карта\" + 0.025*\"банк\" + 0.015*\"деньга\" + 0.009*\"день\" + 0.009*\"счёт\" + 0.009*\"заявление\" + 0.008*\"мой\" + 0.007*\"сумма\" + 0.007*\"отделение\" + 0.007*\"сказать\" + 0.005*\"сотрудник\" + 0.005*\"рубль\" + 0.005*\"операция\" + 0.005*\"банкомат\" + 0.005*\"платёж\" + 0.004*\"один\" + 0.004*\"такой\" + 0.004*\"позвонить\" + 0.004*\"время\" + 0.004*\"сбербанк\"'),\n",
       " (2,\n",
       "  '0.021*\"банк\" + 0.008*\"день\" + 0.007*\"клиент\" + 0.007*\"счёт\" + 0.007*\"отделение\" + 0.007*\"сотрудник\" + 0.006*\"карта\" + 0.006*\"очередь\" + 0.005*\"банка\" + 0.005*\"мой\" + 0.005*\"кредит\" + 0.005*\"время\" + 0.005*\"вопрос\" + 0.004*\"офис\" + 0.004*\"деньга\" + 0.004*\"один\" + 0.004*\"работать\" + 0.004*\"человек\" + 0.004*\"такой\" + 0.004*\"рубль\"'),\n",
       " (3,\n",
       "  '0.028*\"банк\" + 0.010*\"карта\" + 0.008*\"отделение\" + 0.008*\"клиент\" + 0.008*\"кредит\" + 0.007*\"день\" + 0.007*\"мой\" + 0.005*\"деньга\" + 0.005*\"договор\" + 0.005*\"банка\" + 0.005*\"услуга\" + 0.005*\"сотрудник\" + 0.004*\"один\" + 0.004*\"время\" + 0.004*\"данный\" + 0.004*\"сбербанк\" + 0.004*\"вклад\" + 0.004*\"сказать\" + 0.004*\"средство\" + 0.004*\"кредитный\"'),\n",
       " (4,\n",
       "  '0.026*\"банк\" + 0.023*\"карта\" + 0.009*\"вклад\" + 0.009*\"клиент\" + 0.007*\"счёт\" + 0.007*\"мой\" + 0.006*\"отделение\" + 0.006*\"деньга\" + 0.005*\"вопрос\" + 0.005*\"день\" + 0.005*\"банка\" + 0.005*\"сотрудник\" + 0.004*\"офис\" + 0.004*\"один\" + 0.004*\"интернет\" + 0.004*\"время\" + 0.004*\"другой\" + 0.004*\"услуга\" + 0.004*\"работать\" + 0.004*\"такой\"')]"
      ]
     },
     "execution_count": 59,
     "metadata": {},
     "output_type": "execute_result"
    }
   ],
   "source": [
    "lda.print_topics(num_words=20)"
   ]
  },
  {
   "cell_type": "markdown",
   "metadata": {},
   "source": [
    "Попробуем интерпретировать полученные темы:\n",
    "- 0. Вопросы предоставления кредитов (слова \"кредит\", \"кредитный\", \"договор\")\n",
    "- 1. Внесение или вывод денежных средств по карте (слова \"карта\", \"деньга\", \"сумма\", \"операция\")\n",
    "- 2. Задержки в обслуживании (слова \"день\", \"отделение\", \"очередь\", \"время\")\n",
    "- 3. Задержки при работе с оформлением кредитов (слова \"кредит\", \"день\", \"договор\")\n",
    "- 4. Вклады (слова \"вклад\", \"счет\", \"деньга\")"
   ]
  },
  {
   "cell_type": "code",
   "execution_count": 60,
   "metadata": {},
   "outputs": [],
   "source": [
    "# рассмотрим 20 тем\n",
    "lda = models.LdaModel(corpus, num_topics=20, id2word=dictionary, passes=5)"
   ]
  },
  {
   "cell_type": "code",
   "execution_count": 61,
   "metadata": {},
   "outputs": [
    {
     "data": {
      "text/plain": [
       "[(0,\n",
       "  '0.012*\"деньга\" + 0.012*\"банк\" + 0.010*\"день\" + 0.009*\"отделение\" + 0.009*\"счёт\" + 0.007*\"мой\" + 0.007*\"очередь\" + 0.006*\"клиент\" + 0.005*\"вклад\" + 0.005*\"один\" + 0.005*\"сотрудник\" + 0.005*\"заявление\" + 0.004*\"обслуживание\" + 0.004*\"депозит\" + 0.004*\"сумма\" + 0.004*\"время\" + 0.004*\"почему\" + 0.003*\"карта\" + 0.003*\"написать\" + 0.003*\"подпись\"'),\n",
       " (1,\n",
       "  '0.026*\"банк\" + 0.015*\"кредит\" + 0.009*\"день\" + 0.009*\"договор\" + 0.009*\"сумма\" + 0.009*\"клиент\" + 0.008*\"счёт\" + 0.008*\"страхование\" + 0.007*\"мой\" + 0.007*\"сказать\" + 0.007*\"кредитный\" + 0.007*\"сотрудник\" + 0.006*\"страховой\" + 0.006*\"отделение\" + 0.006*\"банка\" + 0.005*\"рубль\" + 0.005*\"месяц\" + 0.005*\"один\" + 0.004*\"деньга\" + 0.004*\"такой\"'),\n",
       " (2,\n",
       "  '0.039*\"карта\" + 0.009*\"номер\" + 0.009*\"банк\" + 0.007*\"сказать\" + 0.006*\"отделение\" + 0.006*\"прийти\" + 0.006*\"месяц\" + 0.006*\"счёт\" + 0.005*\"данные\" + 0.005*\"говорить\" + 0.005*\"день\" + 0.005*\"мой\" + 0.005*\"деньга\" + 0.005*\"телефон\" + 0.005*\"вопрос\" + 0.005*\"ответ\" + 0.004*\"срок\" + 0.004*\"нужный\" + 0.004*\"заявка\" + 0.004*\"сделать\"'),\n",
       " (3,\n",
       "  '0.027*\"банк\" + 0.010*\"деньга\" + 0.010*\"карта\" + 0.009*\"счёт\" + 0.009*\"клиент\" + 0.009*\"сотрудник\" + 0.007*\"платёж\" + 0.006*\"банка\" + 0.005*\"мой\" + 0.005*\"один\" + 0.005*\"отделение\" + 0.005*\"офис\" + 0.005*\"перевод\" + 0.005*\"день\" + 0.004*\"весь\" + 0.004*\"комиссия\" + 0.004*\"услуга\" + 0.004*\"вопрос\" + 0.004*\"работать\" + 0.004*\"сказать\"'),\n",
       " (4,\n",
       "  '0.023*\"банк\" + 0.011*\"деньга\" + 0.011*\"день\" + 0.008*\"отделение\" + 0.007*\"клиент\" + 0.007*\"вопрос\" + 0.006*\"вклад\" + 0.005*\"время\" + 0.005*\"весь\" + 0.005*\"счёт\" + 0.005*\"мой\" + 0.005*\"очередь\" + 0.005*\"сотрудник\" + 0.005*\"кредит\" + 0.004*\"банка\" + 0.004*\"офис\" + 0.004*\"сказать\" + 0.004*\"ждать\" + 0.004*\"такой\" + 0.004*\"карта\"'),\n",
       " (5,\n",
       "  '0.019*\"банк\" + 0.016*\"деньга\" + 0.014*\"карта\" + 0.013*\"рубль\" + 0.009*\"мой\" + 0.009*\"кредит\" + 0.008*\"сказать\" + 0.007*\"счёт\" + 0.006*\"оператор\" + 0.006*\"сбербанк\" + 0.006*\"звонить\" + 0.006*\"день\" + 0.005*\"телефон\" + 0.005*\"заявление\" + 0.005*\"платёж\" + 0.005*\"договор\" + 0.005*\"сумма\" + 0.005*\"проблема\" + 0.004*\"номер\" + 0.004*\"прийти\"'),\n",
       " (6,\n",
       "  '0.022*\"банк\" + 0.014*\"деньга\" + 0.011*\"банкомат\" + 0.009*\"сотрудник\" + 0.009*\"отделение\" + 0.007*\"мой\" + 0.007*\"день\" + 0.006*\"офис\" + 0.006*\"сбербанк\" + 0.006*\"заявление\" + 0.006*\"рубль\" + 0.005*\"карта\" + 0.005*\"вклад\" + 0.005*\"банка\" + 0.005*\"счёт\" + 0.005*\"ситуация\" + 0.005*\"такой\" + 0.005*\"клиент\" + 0.005*\"работа\" + 0.005*\"говорить\"'),\n",
       " (7,\n",
       "  '0.024*\"банк\" + 0.011*\"карта\" + 0.008*\"курс\" + 0.008*\"операция\" + 0.007*\"счёт\" + 0.007*\"рубль\" + 0.007*\"деньга\" + 0.007*\"сумма\" + 0.006*\"время\" + 0.006*\"мой\" + 0.005*\"день\" + 0.005*\"такой\" + 0.005*\"один\" + 0.005*\"звонить\" + 0.005*\"отделение\" + 0.005*\"очередь\" + 0.005*\"весь\" + 0.004*\"клиент\" + 0.004*\"человек\" + 0.004*\"телефон\"'),\n",
       " (8,\n",
       "  '0.032*\"банк\" + 0.012*\"карта\" + 0.010*\"мой\" + 0.010*\"номер\" + 0.009*\"сумма\" + 0.008*\"сотрудник\" + 0.008*\"платёж\" + 0.007*\"кредит\" + 0.007*\"день\" + 0.006*\"деньга\" + 0.006*\"телефон\" + 0.006*\"смс\" + 0.006*\"данный\" + 0.006*\"рубль\" + 0.006*\"клиент\" + 0.005*\"банка\" + 0.005*\"сказать\" + 0.005*\"задолженность\" + 0.005*\"счёт\" + 0.005*\"вопрос\"'),\n",
       " (9,\n",
       "  '0.025*\"банк\" + 0.017*\"кредит\" + 0.013*\"заявка\" + 0.010*\"день\" + 0.010*\"сумма\" + 0.008*\"сказать\" + 0.007*\"карта\" + 0.007*\"клиент\" + 0.006*\"банка\" + 0.006*\"ваш\" + 0.006*\"рубль\" + 0.006*\"мой\" + 0.006*\"деньга\" + 0.006*\"платёж\" + 0.005*\"оператор\" + 0.005*\"документ\" + 0.005*\"один\" + 0.005*\"месяц\" + 0.004*\"позвонить\" + 0.004*\"звонить\"'),\n",
       " (10,\n",
       "  '0.018*\"банк\" + 0.012*\"сотрудник\" + 0.007*\"сумма\" + 0.006*\"вопрос\" + 0.006*\"отделение\" + 0.005*\"клиент\" + 0.005*\"время\" + 0.005*\"банка\" + 0.005*\"билет\" + 0.005*\"ваш\" + 0.005*\"мой\" + 0.005*\"карта\" + 0.005*\"система\" + 0.004*\"рубль\" + 0.004*\"день\" + 0.004*\"обслуживание\" + 0.004*\"я\" + 0.004*\"средство\" + 0.004*\"один\" + 0.004*\"бронь\"'),\n",
       " (11,\n",
       "  '0.034*\"банк\" + 0.025*\"карта\" + 0.017*\"вклад\" + 0.009*\"клиент\" + 0.008*\"кредитный\" + 0.008*\"мой\" + 0.008*\"договор\" + 0.008*\"день\" + 0.007*\"счёт\" + 0.007*\"банка\" + 0.006*\"очень\" + 0.006*\"процент\" + 0.006*\"отделение\" + 0.006*\"деньга\" + 0.005*\"вопрос\" + 0.005*\"время\" + 0.005*\"сотрудник\" + 0.004*\"сказать\" + 0.004*\"такой\" + 0.004*\"обслуживание\"'),\n",
       " (12,\n",
       "  '0.020*\"банк\" + 0.018*\"карта\" + 0.009*\"мой\" + 0.008*\"заявление\" + 0.008*\"счёт\" + 0.007*\"клиент\" + 0.006*\"сказать\" + 0.006*\"офис\" + 0.006*\"отделение\" + 0.005*\"вопрос\" + 0.005*\"день\" + 0.005*\"деньга\" + 0.004*\"вклад\" + 0.004*\"проблема\" + 0.004*\"средство\" + 0.004*\"один\" + 0.004*\"месяц\" + 0.004*\"договор\" + 0.004*\"какой\" + 0.003*\"иметь\"'),\n",
       " (13,\n",
       "  '0.010*\"банк\" + 0.004*\"рубль\" + 0.004*\"девушка\" + 0.004*\"лист\" + 0.004*\"сотрудник\" + 0.004*\"кредит\" + 0.004*\"магазин\" + 0.004*\"такой\" + 0.004*\"клиент\" + 0.003*\"место\" + 0.003*\"мой\" + 0.003*\"карта\" + 0.003*\"чехия\" + 0.003*\"телефон\" + 0.003*\"человек\" + 0.003*\"крона\" + 0.003*\"кредитка\" + 0.003*\"я\" + 0.003*\"рабочий\" + 0.003*\"сумма\"'),\n",
       " (14,\n",
       "  '0.033*\"банк\" + 0.016*\"договор\" + 0.014*\"кредит\" + 0.010*\"мой\" + 0.009*\"заявление\" + 0.008*\"кредитный\" + 0.006*\"карта\" + 0.005*\"банка\" + 0.005*\"сотрудник\" + 0.005*\"клиент\" + 0.005*\"страховка\" + 0.005*\"день\" + 0.004*\"вопрос\" + 0.004*\"звонок\" + 0.004*\"месяц\" + 0.004*\"один\" + 0.004*\"сумма\" + 0.004*\"говорить\" + 0.004*\"счёт\" + 0.004*\"деньга\"'),\n",
       " (15,\n",
       "  '0.029*\"банк\" + 0.018*\"кредит\" + 0.011*\"рубль\" + 0.011*\"деньга\" + 0.010*\"сумма\" + 0.010*\"заявление\" + 0.010*\"день\" + 0.009*\"сотрудник\" + 0.009*\"мой\" + 0.007*\"карта\" + 0.006*\"месяц\" + 0.006*\"претензия\" + 0.006*\"банкомат\" + 0.005*\"написать\" + 0.005*\"отделение\" + 0.005*\"платёж\" + 0.005*\"погашение\" + 0.005*\"ответ\" + 0.004*\"обратиться\" + 0.004*\"ситуация\"'),\n",
       " (16,\n",
       "  '0.032*\"карта\" + 0.021*\"заявление\" + 0.016*\"банк\" + 0.014*\"сбербанк\" + 0.013*\"мой\" + 0.013*\"отделение\" + 0.010*\"день\" + 0.010*\"счёт\" + 0.009*\"средство\" + 0.008*\"деньга\" + 0.006*\"данный\" + 0.006*\"операция\" + 0.006*\"сотрудник\" + 0.006*\"ответ\" + 0.005*\"рубль\" + 0.005*\"денежный\" + 0.005*\"написать\" + 0.005*\"сказать\" + 0.005*\"получить\" + 0.005*\"время\"'),\n",
       " (17,\n",
       "  '0.022*\"карта\" + 0.022*\"банк\" + 0.010*\"отделение\" + 0.009*\"деньга\" + 0.007*\"день\" + 0.007*\"счёт\" + 0.006*\"кредит\" + 0.006*\"сказать\" + 0.006*\"мой\" + 0.005*\"один\" + 0.005*\"клиент\" + 0.005*\"банка\" + 0.005*\"офис\" + 0.005*\"кредитный\" + 0.005*\"время\" + 0.005*\"другой\" + 0.005*\"сотрудник\" + 0.004*\"специалист\" + 0.004*\"работать\" + 0.004*\"вопрос\"'),\n",
       " (18,\n",
       "  '0.022*\"банк\" + 0.012*\"вклад\" + 0.011*\"клиент\" + 0.010*\"отделение\" + 0.010*\"кредит\" + 0.010*\"договор\" + 0.008*\"сотрудник\" + 0.007*\"документ\" + 0.006*\"один\" + 0.006*\"работать\" + 0.005*\"время\" + 0.005*\"платёж\" + 0.004*\"день\" + 0.004*\"погашение\" + 0.004*\"вопрос\" + 0.004*\"банка\" + 0.004*\"ваш\" + 0.003*\"два\" + 0.003*\"сказать\" + 0.003*\"очень\"'),\n",
       " (19,\n",
       "  '0.024*\"карта\" + 0.020*\"банк\" + 0.010*\"деньга\" + 0.006*\"мой\" + 0.006*\"день\" + 0.005*\"клиент\" + 0.005*\"платёж\" + 0.005*\"счёт\" + 0.005*\"сказать\" + 0.005*\"операция\" + 0.005*\"рубль\" + 0.004*\"перевод\" + 0.004*\"сегодня\" + 0.004*\"другой\" + 0.004*\"такой\" + 0.004*\"получить\" + 0.004*\"отделение\" + 0.004*\"код\" + 0.004*\"нужный\" + 0.004*\"месяц\"')]"
      ]
     },
     "execution_count": 61,
     "metadata": {},
     "output_type": "execute_result"
    }
   ],
   "source": [
    "topics = lda.print_topics(num_words = 20)\n",
    "topics"
   ]
  },
  {
   "cell_type": "code",
   "execution_count": 62,
   "metadata": {},
   "outputs": [
    {
     "name": "stdout",
     "output_type": "stream",
     "text": [
      "(5, '0.019*\"банк\" + 0.016*\"деньга\" + 0.014*\"карта\" + 0.013*\"рубль\" + 0.009*\"мой\" + 0.009*\"кредит\" + 0.008*\"сказать\" + 0.007*\"счёт\" + 0.006*\"оператор\" + 0.006*\"сбербанк\" + 0.006*\"звонить\" + 0.006*\"день\" + 0.005*\"телефон\" + 0.005*\"заявление\" + 0.005*\"платёж\" + 0.005*\"договор\" + 0.005*\"сумма\" + 0.005*\"проблема\" + 0.004*\"номер\" + 0.004*\"прийти\"')\n",
      "(6, '0.022*\"банк\" + 0.014*\"деньга\" + 0.011*\"банкомат\" + 0.009*\"сотрудник\" + 0.009*\"отделение\" + 0.007*\"мой\" + 0.007*\"день\" + 0.006*\"офис\" + 0.006*\"сбербанк\" + 0.006*\"заявление\" + 0.006*\"рубль\" + 0.005*\"карта\" + 0.005*\"вклад\" + 0.005*\"банка\" + 0.005*\"счёт\" + 0.005*\"ситуация\" + 0.005*\"такой\" + 0.005*\"клиент\" + 0.005*\"работа\" + 0.005*\"говорить\"')\n",
      "(16, '0.032*\"карта\" + 0.021*\"заявление\" + 0.016*\"банк\" + 0.014*\"сбербанк\" + 0.013*\"мой\" + 0.013*\"отделение\" + 0.010*\"день\" + 0.010*\"счёт\" + 0.009*\"средство\" + 0.008*\"деньга\" + 0.006*\"данный\" + 0.006*\"операция\" + 0.006*\"сотрудник\" + 0.006*\"ответ\" + 0.005*\"рубль\" + 0.005*\"денежный\" + 0.005*\"написать\" + 0.005*\"сказать\" + 0.005*\"получить\" + 0.005*\"время\"')\n"
     ]
    }
   ],
   "source": [
    "for topic in topics:\n",
    "    if any(s in topic[1] for s in ['сбер', 'втб', 'альфа', 'открытие', 'гпб', 'рсхб', 'газпромбанк', 'бин', 'авангард']):\n",
    "        print(topic)"
   ]
  },
  {
   "cell_type": "markdown",
   "metadata": {},
   "source": [
    "Во всех перечисленных темах упомянут Сбербанк.\n",
    "Рассмотрим эти темы (по номерам):\n",
    "- 5. Вопросы по кредитным картам (слова \"деньга\", \"карта\", \"рубль\", \"кредит\").\n",
    "- 6. Проблемы с вкладами (слова \"деньга\", \"заявление\", \"рубль\", \"вклад\", \"ситуация\").\n",
    "- 16. Ввод-вывод денежных средств (слова \"заявление\", \"мой\", \"счет\", \"средство\", \"деньга\")."
   ]
  },
  {
   "cell_type": "markdown",
   "metadata": {},
   "source": [
    " ### Часть 3. Классификация текстов\n",
    " \n",
    " Решаем задачу бинарной классификации: различаем резко положительные отзывы (оценка 5) и резко отрицательные (оценка 1)."
   ]
  },
  {
   "cell_type": "markdown",
   "metadata": {},
   "source": [
    "1. Составьте обучающее и тестовое множество: выберите из всего набора данных N1 отзывов с оценкой 1 и N2 отзывов с оценкой 5. Используйте train_test_split для разделения множества отобранных документов на обучающее и тестовое."
   ]
  },
  {
   "cell_type": "code",
   "execution_count": 63,
   "metadata": {},
   "outputs": [],
   "source": [
    "# возьмем по 1500 положительных и отрицательных отзывов\n",
    "data_good = data[data.rating_grade == 5].sample(n=1500)[['text', 'rating_grade']]\n",
    "data_bad = data[data.rating_grade == 1].sample(n=1500)[['text', 'rating_grade']]\n",
    "data_goodbad = pd.concat([data_good, data_bad])"
   ]
  },
  {
   "cell_type": "code",
   "execution_count": 64,
   "metadata": {},
   "outputs": [
    {
     "data": {
      "text/plain": [
       "(3000, 2)"
      ]
     },
     "execution_count": 64,
     "metadata": {},
     "output_type": "execute_result"
    }
   ],
   "source": [
    "data_goodbad.shape"
   ]
  },
  {
   "cell_type": "code",
   "execution_count": 65,
   "metadata": {},
   "outputs": [
    {
     "data": {
      "text/html": [
       "<div>\n",
       "<style scoped>\n",
       "    .dataframe tbody tr th:only-of-type {\n",
       "        vertical-align: middle;\n",
       "    }\n",
       "\n",
       "    .dataframe tbody tr th {\n",
       "        vertical-align: top;\n",
       "    }\n",
       "\n",
       "    .dataframe thead th {\n",
       "        text-align: right;\n",
       "    }\n",
       "</style>\n",
       "<table border=\"1\" class=\"dataframe\">\n",
       "  <thead>\n",
       "    <tr style=\"text-align: right;\">\n",
       "      <th></th>\n",
       "      <th>text</th>\n",
       "      <th>rating_grade</th>\n",
       "    </tr>\n",
       "  </thead>\n",
       "  <tbody>\n",
       "    <tr>\n",
       "      <th>142814</th>\n",
       "      <td>Благодарю Начальника Управления по обслуживани...</td>\n",
       "      <td>5.0</td>\n",
       "    </tr>\n",
       "    <tr>\n",
       "      <th>74027</th>\n",
       "      <td>Недавно (31 августа) открыл депозит в Бинбанке...</td>\n",
       "      <td>5.0</td>\n",
       "    </tr>\n",
       "    <tr>\n",
       "      <th>146870</th>\n",
       "      <td>Пользуюсь кредитной картой уже полгода, по про...</td>\n",
       "      <td>5.0</td>\n",
       "    </tr>\n",
       "    <tr>\n",
       "      <th>40936</th>\n",
       "      <td>Здравствуйте! Вас приветствует один из ваших V...</td>\n",
       "      <td>5.0</td>\n",
       "    </tr>\n",
       "    <tr>\n",
       "      <th>13173</th>\n",
       "      <td>Добрый день, хотел поблагодарить сотрудников, ...</td>\n",
       "      <td>5.0</td>\n",
       "    </tr>\n",
       "  </tbody>\n",
       "</table>\n",
       "</div>"
      ],
      "text/plain": [
       "                                                     text  rating_grade\n",
       "142814  Благодарю Начальника Управления по обслуживани...           5.0\n",
       "74027   Недавно (31 августа) открыл депозит в Бинбанке...           5.0\n",
       "146870  Пользуюсь кредитной картой уже полгода, по про...           5.0\n",
       "40936   Здравствуйте! Вас приветствует один из ваших V...           5.0\n",
       "13173   Добрый день, хотел поблагодарить сотрудников, ...           5.0"
      ]
     },
     "execution_count": 65,
     "metadata": {},
     "output_type": "execute_result"
    }
   ],
   "source": [
    "data_goodbad.head()"
   ]
  },
  {
   "cell_type": "code",
   "execution_count": 66,
   "metadata": {},
   "outputs": [],
   "source": [
    "from sklearn.model_selection import train_test_split\n",
    "x = data_goodbad.text\n",
    "y = data_goodbad.rating_grade\n",
    "x_train, x_test, y_train, y_test = train_test_split(x, y, test_size=0.2)"
   ]
  },
  {
   "cell_type": "markdown",
   "metadata": {},
   "source": [
    "2. Используйте любой известный вам алгоритм классификации текстов для решения задачи и получите baseline.\n",
    "   \n",
    "   Сравните разные варианты векторизации текста: использование только униграмм, пар или троек слов или с использованием символьных n-грамм."
   ]
  },
  {
   "cell_type": "code",
   "execution_count": 67,
   "metadata": {},
   "outputs": [],
   "source": [
    "def preprocess_dataset(dataset):\n",
    "    return dataset.progress_apply(lambda x: ' '.join(preprocess_text(x)))"
   ]
  },
  {
   "cell_type": "code",
   "execution_count": 68,
   "metadata": {},
   "outputs": [
    {
     "name": "stderr",
     "output_type": "stream",
     "text": [
      "100%|██████████████████████████████████████████████████████████████████████████████| 2400/2400 [09:35<00:00,  4.54it/s]\n"
     ]
    }
   ],
   "source": [
    "x_train_preprocessed = preprocess_dataset(x_train)"
   ]
  },
  {
   "cell_type": "code",
   "execution_count": 69,
   "metadata": {},
   "outputs": [
    {
     "name": "stderr",
     "output_type": "stream",
     "text": [
      "100%|████████████████████████████████████████████████████████████████████████████████| 600/600 [02:05<00:00,  6.54it/s]\n"
     ]
    }
   ],
   "source": [
    "x_test_preprocessed = preprocess_dataset(x_test)"
   ]
  },
  {
   "cell_type": "code",
   "execution_count": 70,
   "metadata": {},
   "outputs": [],
   "source": [
    "from sklearn.pipeline import Pipeline\n",
    "from sklearn.feature_extraction.text import CountVectorizer\n",
    "from sklearn.naive_bayes import MultinomialNB\n",
    "\n",
    "clf_oneword = Pipeline([\n",
    "    ('vect', CountVectorizer(analyzer='word', ngram_range=(1,1))),\n",
    "    ('clf', MultinomialNB()),\n",
    "])"
   ]
  },
  {
   "cell_type": "code",
   "execution_count": 71,
   "metadata": {},
   "outputs": [
    {
     "data": {
      "text/plain": [
       "Pipeline(memory=None,\n",
       "     steps=[('vect', CountVectorizer(analyzer='word', binary=False, decode_error='strict',\n",
       "        dtype=<class 'numpy.int64'>, encoding='utf-8', input='content',\n",
       "        lowercase=True, max_df=1.0, max_features=None, min_df=1,\n",
       "        ngram_range=(1, 1), preprocessor=None, stop_words=None,\n",
       "        strip_accents=None, token_pattern='(?u)\\\\b\\\\w\\\\w+\\\\b',\n",
       "        tokenizer=None, vocabulary=None)), ('clf', MultinomialNB(alpha=1.0, class_prior=None, fit_prior=True))])"
      ]
     },
     "execution_count": 71,
     "metadata": {},
     "output_type": "execute_result"
    }
   ],
   "source": [
    "clf_oneword.fit(x_train_preprocessed, y_train)"
   ]
  },
  {
   "cell_type": "code",
   "execution_count": 72,
   "metadata": {},
   "outputs": [
    {
     "name": "stdout",
     "output_type": "stream",
     "text": [
      "Униграммы\n",
      "Accuracy:   0.89\n",
      "F1-measure:   0.89\n"
     ]
    }
   ],
   "source": [
    "from sklearn.metrics import accuracy_score, f1_score\n",
    "print(\"Униграммы\")\n",
    "print(\"Accuracy: {0:6.2f}\".format(accuracy_score(y_test, clf_oneword.predict(x_test_preprocessed))))\n",
    "print(\"F1-measure: {0:6.2f}\".format(f1_score(y_test, clf_oneword.predict(x_test_preprocessed), average='macro')))"
   ]
  },
  {
   "cell_type": "code",
   "execution_count": 73,
   "metadata": {},
   "outputs": [
    {
     "data": {
      "text/plain": [
       "Pipeline(memory=None,\n",
       "     steps=[('vect', CountVectorizer(analyzer='word', binary=False, decode_error='strict',\n",
       "        dtype=<class 'numpy.int64'>, encoding='utf-8', input='content',\n",
       "        lowercase=True, max_df=1.0, max_features=None, min_df=1,\n",
       "        ngram_range=(2, 2), preprocessor=None, stop_words=None,\n",
       "        strip_accents=None, token_pattern='(?u)\\\\b\\\\w\\\\w+\\\\b',\n",
       "        tokenizer=None, vocabulary=None)), ('clf', MultinomialNB(alpha=1.0, class_prior=None, fit_prior=True))])"
      ]
     },
     "execution_count": 73,
     "metadata": {},
     "output_type": "execute_result"
    }
   ],
   "source": [
    "clf_twoword = Pipeline([\n",
    "    ('vect', CountVectorizer(analyzer='word', ngram_range=(2,2))),\n",
    "    ('clf', MultinomialNB()),\n",
    "])\n",
    "clf_twoword.fit(x_train_preprocessed, y_train)"
   ]
  },
  {
   "cell_type": "code",
   "execution_count": 74,
   "metadata": {},
   "outputs": [
    {
     "name": "stdout",
     "output_type": "stream",
     "text": [
      "Биграммы\n",
      "Accuracy:   0.89\n",
      "F1-measure:   0.89\n"
     ]
    }
   ],
   "source": [
    "print('Биграммы')\n",
    "print(\"Accuracy: {0:6.2f}\".format(accuracy_score(y_test, clf_twoword.predict(x_test_preprocessed))))\n",
    "print(\"F1-measure: {0:6.2f}\".format(f1_score(y_test, clf_twoword.predict(x_test_preprocessed), average='macro')))"
   ]
  },
  {
   "cell_type": "code",
   "execution_count": 75,
   "metadata": {},
   "outputs": [
    {
     "data": {
      "text/plain": [
       "Pipeline(memory=None,\n",
       "     steps=[('vect', CountVectorizer(analyzer='word', binary=False, decode_error='strict',\n",
       "        dtype=<class 'numpy.int64'>, encoding='utf-8', input='content',\n",
       "        lowercase=True, max_df=1.0, max_features=None, min_df=1,\n",
       "        ngram_range=(3, 3), preprocessor=None, stop_words=None,\n",
       "        strip_accents=None, token_pattern='(?u)\\\\b\\\\w\\\\w+\\\\b',\n",
       "        tokenizer=None, vocabulary=None)), ('clf', MultinomialNB(alpha=1.0, class_prior=None, fit_prior=True))])"
      ]
     },
     "execution_count": 75,
     "metadata": {},
     "output_type": "execute_result"
    }
   ],
   "source": [
    "clf_threeword = Pipeline([\n",
    "    ('vect', CountVectorizer(analyzer='word', ngram_range=(3,3))),\n",
    "    ('clf', MultinomialNB()),\n",
    "])\n",
    "clf_threeword.fit(x_train_preprocessed, y_train)"
   ]
  },
  {
   "cell_type": "code",
   "execution_count": 76,
   "metadata": {},
   "outputs": [
    {
     "name": "stdout",
     "output_type": "stream",
     "text": [
      "Триграммы\n",
      "Accuracy:   0.77\n",
      "F1-measure:   0.77\n"
     ]
    }
   ],
   "source": [
    "print('Триграммы')\n",
    "print(\"Accuracy: {0:6.2f}\".format(accuracy_score(y_test, clf_threeword.predict(x_test_preprocessed))))\n",
    "print(\"F1-measure: {0:6.2f}\".format(f1_score(y_test, clf_threeword.predict(x_test_preprocessed), average='macro')))"
   ]
  },
  {
   "cell_type": "code",
   "execution_count": 77,
   "metadata": {},
   "outputs": [
    {
     "data": {
      "text/plain": [
       "Pipeline(memory=None,\n",
       "     steps=[('vect', CountVectorizer(analyzer='char', binary=False, decode_error='strict',\n",
       "        dtype=<class 'numpy.int64'>, encoding='utf-8', input='content',\n",
       "        lowercase=True, max_df=1.0, max_features=None, min_df=1,\n",
       "        ngram_range=(4, 6), preprocessor=None, stop_words=None,\n",
       "        strip_accents=None, token_pattern='(?u)\\\\b\\\\w\\\\w+\\\\b',\n",
       "        tokenizer=None, vocabulary=None)), ('clf', MultinomialNB(alpha=1.0, class_prior=None, fit_prior=True))])"
      ]
     },
     "execution_count": 77,
     "metadata": {},
     "output_type": "execute_result"
    }
   ],
   "source": [
    "clf_nchar = Pipeline([\n",
    "    ('vect', CountVectorizer(analyzer='char', ngram_range=(4,6))),\n",
    "    ('clf', MultinomialNB()),\n",
    "])\n",
    "clf_nchar.fit(x_train_preprocessed, y_train)"
   ]
  },
  {
   "cell_type": "code",
   "execution_count": 78,
   "metadata": {},
   "outputs": [
    {
     "name": "stdout",
     "output_type": "stream",
     "text": [
      "Символьные 4-6-граммы\n",
      "Accuracy:   0.88\n",
      "F1-measure:   0.88\n"
     ]
    }
   ],
   "source": [
    "print('Символьные 4-6-граммы')\n",
    "print(\"Accuracy: {0:6.2f}\".format(accuracy_score(y_test, clf_nchar.predict(x_test_preprocessed))))\n",
    "print(\"F1-measure: {0:6.2f}\".format(f1_score(y_test, clf_nchar.predict(x_test_preprocessed), average='macro')))"
   ]
  },
  {
   "cell_type": "markdown",
   "metadata": {},
   "source": [
    "3. Сравните, как изменяется качество решения задачи при использовании скрытых тем в качестве признаков:\n",
    "   \n",
    "   1-й вариант: tf-idf преобразование и сингулярное разложение\n",
    "   \n",
    "   2-й вариант: тематические модели LDA"
   ]
  },
  {
   "cell_type": "code",
   "execution_count": 79,
   "metadata": {},
   "outputs": [
    {
     "name": "stderr",
     "output_type": "stream",
     "text": [
      "C:\\ProgramData\\Anaconda3\\lib\\site-packages\\sklearn\\ensemble\\forest.py:246: FutureWarning: The default value of n_estimators will change from 10 in version 0.20 to 100 in 0.22.\n",
      "  \"10 in version 0.20 to 100 in 0.22.\", FutureWarning)\n"
     ]
    },
    {
     "name": "stdout",
     "output_type": "stream",
     "text": [
      "TF-IDF with SVD\n",
      "Accuracy:   0.69\n",
      "F1-measure:   0.69\n"
     ]
    }
   ],
   "source": [
    "from sklearn.feature_extraction.text import TfidfTransformer\n",
    "from sklearn.decomposition import TruncatedSVD\n",
    "from sklearn.ensemble import RandomForestClassifier\n",
    "\n",
    "clf_tfidf_svd = Pipeline([\n",
    "    ('vect', CountVectorizer(analyzer='word', ngram_range=(2,2))),\n",
    "    ('tfidf', TfidfTransformer()),\n",
    "    ('tm', TruncatedSVD()),\n",
    "    ('clf', RandomForestClassifier()), # используем Random Forest, так как Naive Bayes выдает ошибку на отрицательных значениях\n",
    "])\n",
    "\n",
    "clf_tfidf_svd.fit(x_train_preprocessed, y_train)\n",
    "\n",
    "print('TF-IDF with SVD')\n",
    "print(\"Accuracy: {0:6.2f}\".format(accuracy_score(y_test, clf_tfidf_svd.predict(x_test_preprocessed))))\n",
    "print(\"F1-measure: {0:6.2f}\".format(f1_score(y_test, clf_tfidf_svd.predict(x_test_preprocessed), average='macro')))"
   ]
  },
  {
   "cell_type": "code",
   "execution_count": 80,
   "metadata": {},
   "outputs": [
    {
     "name": "stdout",
     "output_type": "stream",
     "text": [
      "LDA\n",
      "Accuracy:   0.82\n",
      "F1-measure:   0.82\n"
     ]
    }
   ],
   "source": [
    "from sklearn.decomposition import LatentDirichletAllocation\n",
    "\n",
    "clf_lda = Pipeline([\n",
    "    ('vect', CountVectorizer(analyzer='word', ngram_range=(1,1))),\n",
    "    ('tm', LatentDirichletAllocation()),\n",
    "    ('clf', MultinomialNB()),\n",
    "])\n",
    "\n",
    "clf_lda.fit(x_train_preprocessed, y_train)\n",
    "\n",
    "print('LDA')\n",
    "print(\"Accuracy: {0:6.2f}\".format(accuracy_score(y_test, clf_lda.predict(x_test_preprocessed))))\n",
    "print(\"F1-measure: {0:6.2f}\".format(f1_score(y_test, clf_lda.predict(x_test_preprocessed), average='macro')))"
   ]
  },
  {
   "cell_type": "code",
   "execution_count": null,
   "metadata": {},
   "outputs": [],
   "source": []
  }
 ],
 "metadata": {
  "kernelspec": {
   "display_name": "Python 3",
   "language": "python",
   "name": "python3"
  },
  "language_info": {
   "codemirror_mode": {
    "name": "ipython",
    "version": 3
   },
   "file_extension": ".py",
   "mimetype": "text/x-python",
   "name": "python",
   "nbconvert_exporter": "python",
   "pygments_lexer": "ipython3",
   "version": "3.7.1"
  }
 },
 "nbformat": 4,
 "nbformat_minor": 2
}
