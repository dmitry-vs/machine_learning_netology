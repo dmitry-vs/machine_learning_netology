{
 "cells": [
  {
   "cell_type": "markdown",
   "metadata": {},
   "source": [
    "## Подбор алгоритмов и их параметров для решения задачи регрессии ##"
   ]
  },
  {
   "cell_type": "markdown",
   "metadata": {},
   "source": [
    "### Датасет: Boston house-prices ###\n",
    "\n",
    "`https://archive.ics.uci.edu/ml/machine-learning-databases/housing`"
   ]
  },
  {
   "cell_type": "code",
   "execution_count": 1,
   "metadata": {},
   "outputs": [],
   "source": [
    "from sklearn.datasets import load_boston"
   ]
  },
  {
   "cell_type": "markdown",
   "metadata": {},
   "source": [
    "### Загружаем данные ###"
   ]
  },
  {
   "cell_type": "code",
   "execution_count": 2,
   "metadata": {},
   "outputs": [],
   "source": [
    "# загружаем данные\n",
    "boston = load_boston()"
   ]
  },
  {
   "cell_type": "code",
   "execution_count": 3,
   "metadata": {},
   "outputs": [
    {
     "data": {
      "text/plain": [
       "{'data': array([[6.3200e-03, 1.8000e+01, 2.3100e+00, ..., 1.5300e+01, 3.9690e+02,\n",
       "         4.9800e+00],\n",
       "        [2.7310e-02, 0.0000e+00, 7.0700e+00, ..., 1.7800e+01, 3.9690e+02,\n",
       "         9.1400e+00],\n",
       "        [2.7290e-02, 0.0000e+00, 7.0700e+00, ..., 1.7800e+01, 3.9283e+02,\n",
       "         4.0300e+00],\n",
       "        ...,\n",
       "        [6.0760e-02, 0.0000e+00, 1.1930e+01, ..., 2.1000e+01, 3.9690e+02,\n",
       "         5.6400e+00],\n",
       "        [1.0959e-01, 0.0000e+00, 1.1930e+01, ..., 2.1000e+01, 3.9345e+02,\n",
       "         6.4800e+00],\n",
       "        [4.7410e-02, 0.0000e+00, 1.1930e+01, ..., 2.1000e+01, 3.9690e+02,\n",
       "         7.8800e+00]]),\n",
       " 'target': array([24. , 21.6, 34.7, 33.4, 36.2, 28.7, 22.9, 27.1, 16.5, 18.9, 15. ,\n",
       "        18.9, 21.7, 20.4, 18.2, 19.9, 23.1, 17.5, 20.2, 18.2, 13.6, 19.6,\n",
       "        15.2, 14.5, 15.6, 13.9, 16.6, 14.8, 18.4, 21. , 12.7, 14.5, 13.2,\n",
       "        13.1, 13.5, 18.9, 20. , 21. , 24.7, 30.8, 34.9, 26.6, 25.3, 24.7,\n",
       "        21.2, 19.3, 20. , 16.6, 14.4, 19.4, 19.7, 20.5, 25. , 23.4, 18.9,\n",
       "        35.4, 24.7, 31.6, 23.3, 19.6, 18.7, 16. , 22.2, 25. , 33. , 23.5,\n",
       "        19.4, 22. , 17.4, 20.9, 24.2, 21.7, 22.8, 23.4, 24.1, 21.4, 20. ,\n",
       "        20.8, 21.2, 20.3, 28. , 23.9, 24.8, 22.9, 23.9, 26.6, 22.5, 22.2,\n",
       "        23.6, 28.7, 22.6, 22. , 22.9, 25. , 20.6, 28.4, 21.4, 38.7, 43.8,\n",
       "        33.2, 27.5, 26.5, 18.6, 19.3, 20.1, 19.5, 19.5, 20.4, 19.8, 19.4,\n",
       "        21.7, 22.8, 18.8, 18.7, 18.5, 18.3, 21.2, 19.2, 20.4, 19.3, 22. ,\n",
       "        20.3, 20.5, 17.3, 18.8, 21.4, 15.7, 16.2, 18. , 14.3, 19.2, 19.6,\n",
       "        23. , 18.4, 15.6, 18.1, 17.4, 17.1, 13.3, 17.8, 14. , 14.4, 13.4,\n",
       "        15.6, 11.8, 13.8, 15.6, 14.6, 17.8, 15.4, 21.5, 19.6, 15.3, 19.4,\n",
       "        17. , 15.6, 13.1, 41.3, 24.3, 23.3, 27. , 50. , 50. , 50. , 22.7,\n",
       "        25. , 50. , 23.8, 23.8, 22.3, 17.4, 19.1, 23.1, 23.6, 22.6, 29.4,\n",
       "        23.2, 24.6, 29.9, 37.2, 39.8, 36.2, 37.9, 32.5, 26.4, 29.6, 50. ,\n",
       "        32. , 29.8, 34.9, 37. , 30.5, 36.4, 31.1, 29.1, 50. , 33.3, 30.3,\n",
       "        34.6, 34.9, 32.9, 24.1, 42.3, 48.5, 50. , 22.6, 24.4, 22.5, 24.4,\n",
       "        20. , 21.7, 19.3, 22.4, 28.1, 23.7, 25. , 23.3, 28.7, 21.5, 23. ,\n",
       "        26.7, 21.7, 27.5, 30.1, 44.8, 50. , 37.6, 31.6, 46.7, 31.5, 24.3,\n",
       "        31.7, 41.7, 48.3, 29. , 24. , 25.1, 31.5, 23.7, 23.3, 22. , 20.1,\n",
       "        22.2, 23.7, 17.6, 18.5, 24.3, 20.5, 24.5, 26.2, 24.4, 24.8, 29.6,\n",
       "        42.8, 21.9, 20.9, 44. , 50. , 36. , 30.1, 33.8, 43.1, 48.8, 31. ,\n",
       "        36.5, 22.8, 30.7, 50. , 43.5, 20.7, 21.1, 25.2, 24.4, 35.2, 32.4,\n",
       "        32. , 33.2, 33.1, 29.1, 35.1, 45.4, 35.4, 46. , 50. , 32.2, 22. ,\n",
       "        20.1, 23.2, 22.3, 24.8, 28.5, 37.3, 27.9, 23.9, 21.7, 28.6, 27.1,\n",
       "        20.3, 22.5, 29. , 24.8, 22. , 26.4, 33.1, 36.1, 28.4, 33.4, 28.2,\n",
       "        22.8, 20.3, 16.1, 22.1, 19.4, 21.6, 23.8, 16.2, 17.8, 19.8, 23.1,\n",
       "        21. , 23.8, 23.1, 20.4, 18.5, 25. , 24.6, 23. , 22.2, 19.3, 22.6,\n",
       "        19.8, 17.1, 19.4, 22.2, 20.7, 21.1, 19.5, 18.5, 20.6, 19. , 18.7,\n",
       "        32.7, 16.5, 23.9, 31.2, 17.5, 17.2, 23.1, 24.5, 26.6, 22.9, 24.1,\n",
       "        18.6, 30.1, 18.2, 20.6, 17.8, 21.7, 22.7, 22.6, 25. , 19.9, 20.8,\n",
       "        16.8, 21.9, 27.5, 21.9, 23.1, 50. , 50. , 50. , 50. , 50. , 13.8,\n",
       "        13.8, 15. , 13.9, 13.3, 13.1, 10.2, 10.4, 10.9, 11.3, 12.3,  8.8,\n",
       "         7.2, 10.5,  7.4, 10.2, 11.5, 15.1, 23.2,  9.7, 13.8, 12.7, 13.1,\n",
       "        12.5,  8.5,  5. ,  6.3,  5.6,  7.2, 12.1,  8.3,  8.5,  5. , 11.9,\n",
       "        27.9, 17.2, 27.5, 15. , 17.2, 17.9, 16.3,  7. ,  7.2,  7.5, 10.4,\n",
       "         8.8,  8.4, 16.7, 14.2, 20.8, 13.4, 11.7,  8.3, 10.2, 10.9, 11. ,\n",
       "         9.5, 14.5, 14.1, 16.1, 14.3, 11.7, 13.4,  9.6,  8.7,  8.4, 12.8,\n",
       "        10.5, 17.1, 18.4, 15.4, 10.8, 11.8, 14.9, 12.6, 14.1, 13. , 13.4,\n",
       "        15.2, 16.1, 17.8, 14.9, 14.1, 12.7, 13.5, 14.9, 20. , 16.4, 17.7,\n",
       "        19.5, 20.2, 21.4, 19.9, 19. , 19.1, 19.1, 20.1, 19.9, 19.6, 23.2,\n",
       "        29.8, 13.8, 13.3, 16.7, 12. , 14.6, 21.4, 23. , 23.7, 25. , 21.8,\n",
       "        20.6, 21.2, 19.1, 20.6, 15.2,  7. ,  8.1, 13.6, 20.1, 21.8, 24.5,\n",
       "        23.1, 19.7, 18.3, 21.2, 17.5, 16.8, 22.4, 20.6, 23.9, 22. , 11.9]),\n",
       " 'feature_names': array(['CRIM', 'ZN', 'INDUS', 'CHAS', 'NOX', 'RM', 'AGE', 'DIS', 'RAD',\n",
       "        'TAX', 'PTRATIO', 'B', 'LSTAT'], dtype='<U7'),\n",
       " 'DESCR': \".. _boston_dataset:\\n\\nBoston house prices dataset\\n---------------------------\\n\\n**Data Set Characteristics:**  \\n\\n    :Number of Instances: 506 \\n\\n    :Number of Attributes: 13 numeric/categorical predictive. Median Value (attribute 14) is usually the target.\\n\\n    :Attribute Information (in order):\\n        - CRIM     per capita crime rate by town\\n        - ZN       proportion of residential land zoned for lots over 25,000 sq.ft.\\n        - INDUS    proportion of non-retail business acres per town\\n        - CHAS     Charles River dummy variable (= 1 if tract bounds river; 0 otherwise)\\n        - NOX      nitric oxides concentration (parts per 10 million)\\n        - RM       average number of rooms per dwelling\\n        - AGE      proportion of owner-occupied units built prior to 1940\\n        - DIS      weighted distances to five Boston employment centres\\n        - RAD      index of accessibility to radial highways\\n        - TAX      full-value property-tax rate per $10,000\\n        - PTRATIO  pupil-teacher ratio by town\\n        - B        1000(Bk - 0.63)^2 where Bk is the proportion of blacks by town\\n        - LSTAT    % lower status of the population\\n        - MEDV     Median value of owner-occupied homes in $1000's\\n\\n    :Missing Attribute Values: None\\n\\n    :Creator: Harrison, D. and Rubinfeld, D.L.\\n\\nThis is a copy of UCI ML housing dataset.\\nhttps://archive.ics.uci.edu/ml/machine-learning-databases/housing/\\n\\n\\nThis dataset was taken from the StatLib library which is maintained at Carnegie Mellon University.\\n\\nThe Boston house-price data of Harrison, D. and Rubinfeld, D.L. 'Hedonic\\nprices and the demand for clean air', J. Environ. Economics & Management,\\nvol.5, 81-102, 1978.   Used in Belsley, Kuh & Welsch, 'Regression diagnostics\\n...', Wiley, 1980.   N.B. Various transformations are used in the table on\\npages 244-261 of the latter.\\n\\nThe Boston house-price data has been used in many machine learning papers that address regression\\nproblems.   \\n     \\n.. topic:: References\\n\\n   - Belsley, Kuh & Welsch, 'Regression diagnostics: Identifying Influential Data and Sources of Collinearity', Wiley, 1980. 244-261.\\n   - Quinlan,R. (1993). Combining Instance-Based and Model-Based Learning. In Proceedings on the Tenth International Conference of Machine Learning, 236-243, University of Massachusetts, Amherst. Morgan Kaufmann.\\n\",\n",
       " 'filename': 'C:\\\\ProgramData\\\\Anaconda3\\\\lib\\\\site-packages\\\\sklearn\\\\datasets\\\\data\\\\boston_house_prices.csv'}"
      ]
     },
     "execution_count": 3,
     "metadata": {},
     "output_type": "execute_result"
    }
   ],
   "source": [
    "boston"
   ]
  },
  {
   "cell_type": "code",
   "execution_count": 4,
   "metadata": {},
   "outputs": [
    {
     "data": {
      "text/plain": [
       "((506, 13), (506,))"
      ]
     },
     "execution_count": 4,
     "metadata": {},
     "output_type": "execute_result"
    }
   ],
   "source": [
    "boston.data.shape, boston.target.shape"
   ]
  },
  {
   "cell_type": "code",
   "execution_count": 5,
   "metadata": {},
   "outputs": [
    {
     "data": {
      "text/plain": [
       "((506, 13), (506,))"
      ]
     },
     "execution_count": 5,
     "metadata": {},
     "output_type": "execute_result"
    }
   ],
   "source": [
    "# преобразуем данные в объекты pandas\n",
    "import numpy as np\n",
    "import pandas as pd\n",
    "import matplotlib.pyplot as plt\n",
    "x = pd.DataFrame(boston.data, columns=boston.feature_names)\n",
    "y = pd.Series(boston.target)\n",
    "x.shape, y.shape"
   ]
  },
  {
   "cell_type": "code",
   "execution_count": 6,
   "metadata": {},
   "outputs": [
    {
     "data": {
      "text/html": [
       "<div>\n",
       "<style scoped>\n",
       "    .dataframe tbody tr th:only-of-type {\n",
       "        vertical-align: middle;\n",
       "    }\n",
       "\n",
       "    .dataframe tbody tr th {\n",
       "        vertical-align: top;\n",
       "    }\n",
       "\n",
       "    .dataframe thead th {\n",
       "        text-align: right;\n",
       "    }\n",
       "</style>\n",
       "<table border=\"1\" class=\"dataframe\">\n",
       "  <thead>\n",
       "    <tr style=\"text-align: right;\">\n",
       "      <th></th>\n",
       "      <th>CRIM</th>\n",
       "      <th>ZN</th>\n",
       "      <th>INDUS</th>\n",
       "      <th>CHAS</th>\n",
       "      <th>NOX</th>\n",
       "      <th>RM</th>\n",
       "      <th>AGE</th>\n",
       "      <th>DIS</th>\n",
       "      <th>RAD</th>\n",
       "      <th>TAX</th>\n",
       "      <th>PTRATIO</th>\n",
       "      <th>B</th>\n",
       "      <th>LSTAT</th>\n",
       "    </tr>\n",
       "  </thead>\n",
       "  <tbody>\n",
       "    <tr>\n",
       "      <th>0</th>\n",
       "      <td>0.00632</td>\n",
       "      <td>18.0</td>\n",
       "      <td>2.31</td>\n",
       "      <td>0.0</td>\n",
       "      <td>0.538</td>\n",
       "      <td>6.575</td>\n",
       "      <td>65.2</td>\n",
       "      <td>4.0900</td>\n",
       "      <td>1.0</td>\n",
       "      <td>296.0</td>\n",
       "      <td>15.3</td>\n",
       "      <td>396.90</td>\n",
       "      <td>4.98</td>\n",
       "    </tr>\n",
       "    <tr>\n",
       "      <th>1</th>\n",
       "      <td>0.02731</td>\n",
       "      <td>0.0</td>\n",
       "      <td>7.07</td>\n",
       "      <td>0.0</td>\n",
       "      <td>0.469</td>\n",
       "      <td>6.421</td>\n",
       "      <td>78.9</td>\n",
       "      <td>4.9671</td>\n",
       "      <td>2.0</td>\n",
       "      <td>242.0</td>\n",
       "      <td>17.8</td>\n",
       "      <td>396.90</td>\n",
       "      <td>9.14</td>\n",
       "    </tr>\n",
       "    <tr>\n",
       "      <th>2</th>\n",
       "      <td>0.02729</td>\n",
       "      <td>0.0</td>\n",
       "      <td>7.07</td>\n",
       "      <td>0.0</td>\n",
       "      <td>0.469</td>\n",
       "      <td>7.185</td>\n",
       "      <td>61.1</td>\n",
       "      <td>4.9671</td>\n",
       "      <td>2.0</td>\n",
       "      <td>242.0</td>\n",
       "      <td>17.8</td>\n",
       "      <td>392.83</td>\n",
       "      <td>4.03</td>\n",
       "    </tr>\n",
       "    <tr>\n",
       "      <th>3</th>\n",
       "      <td>0.03237</td>\n",
       "      <td>0.0</td>\n",
       "      <td>2.18</td>\n",
       "      <td>0.0</td>\n",
       "      <td>0.458</td>\n",
       "      <td>6.998</td>\n",
       "      <td>45.8</td>\n",
       "      <td>6.0622</td>\n",
       "      <td>3.0</td>\n",
       "      <td>222.0</td>\n",
       "      <td>18.7</td>\n",
       "      <td>394.63</td>\n",
       "      <td>2.94</td>\n",
       "    </tr>\n",
       "    <tr>\n",
       "      <th>4</th>\n",
       "      <td>0.06905</td>\n",
       "      <td>0.0</td>\n",
       "      <td>2.18</td>\n",
       "      <td>0.0</td>\n",
       "      <td>0.458</td>\n",
       "      <td>7.147</td>\n",
       "      <td>54.2</td>\n",
       "      <td>6.0622</td>\n",
       "      <td>3.0</td>\n",
       "      <td>222.0</td>\n",
       "      <td>18.7</td>\n",
       "      <td>396.90</td>\n",
       "      <td>5.33</td>\n",
       "    </tr>\n",
       "  </tbody>\n",
       "</table>\n",
       "</div>"
      ],
      "text/plain": [
       "      CRIM    ZN  INDUS  CHAS    NOX     RM   AGE     DIS  RAD    TAX  \\\n",
       "0  0.00632  18.0   2.31   0.0  0.538  6.575  65.2  4.0900  1.0  296.0   \n",
       "1  0.02731   0.0   7.07   0.0  0.469  6.421  78.9  4.9671  2.0  242.0   \n",
       "2  0.02729   0.0   7.07   0.0  0.469  7.185  61.1  4.9671  2.0  242.0   \n",
       "3  0.03237   0.0   2.18   0.0  0.458  6.998  45.8  6.0622  3.0  222.0   \n",
       "4  0.06905   0.0   2.18   0.0  0.458  7.147  54.2  6.0622  3.0  222.0   \n",
       "\n",
       "   PTRATIO       B  LSTAT  \n",
       "0     15.3  396.90   4.98  \n",
       "1     17.8  396.90   9.14  \n",
       "2     17.8  392.83   4.03  \n",
       "3     18.7  394.63   2.94  \n",
       "4     18.7  396.90   5.33  "
      ]
     },
     "execution_count": 6,
     "metadata": {},
     "output_type": "execute_result"
    }
   ],
   "source": [
    "x.head()"
   ]
  },
  {
   "cell_type": "code",
   "execution_count": 7,
   "metadata": {},
   "outputs": [
    {
     "data": {
      "text/plain": [
       "0    24.0\n",
       "1    21.6\n",
       "2    34.7\n",
       "3    33.4\n",
       "4    36.2\n",
       "dtype: float64"
      ]
     },
     "execution_count": 7,
     "metadata": {},
     "output_type": "execute_result"
    }
   ],
   "source": [
    "y.head()"
   ]
  },
  {
   "cell_type": "markdown",
   "metadata": {},
   "source": [
    "### Смотрим данные, проводим описательный анализ признаков ###"
   ]
  },
  {
   "cell_type": "code",
   "execution_count": 8,
   "metadata": {},
   "outputs": [
    {
     "data": {
      "text/plain": [
       "(False, False)"
      ]
     },
     "execution_count": 8,
     "metadata": {},
     "output_type": "execute_result"
    }
   ],
   "source": [
    "x.isnull().any().any(), y.isnull().any()"
   ]
  },
  {
   "cell_type": "code",
   "execution_count": 9,
   "metadata": {},
   "outputs": [
    {
     "data": {
      "text/plain": [
       "Index(['CRIM', 'ZN', 'INDUS', 'CHAS', 'NOX', 'RM', 'AGE', 'DIS', 'RAD', 'TAX',\n",
       "       'PTRATIO', 'B', 'LSTAT'],\n",
       "      dtype='object')"
      ]
     },
     "execution_count": 9,
     "metadata": {},
     "output_type": "execute_result"
    }
   ],
   "source": [
    "x.columns"
   ]
  },
  {
   "cell_type": "code",
   "execution_count": 10,
   "metadata": {},
   "outputs": [],
   "source": [
    "# смотрим последовательно все фичи и для каждой определяем, нужна ли предобработка и какая\n",
    "cols_drop, cols_norm, cols_dummy, cols_le = [], [], [], []"
   ]
  },
  {
   "cell_type": "code",
   "execution_count": 11,
   "metadata": {},
   "outputs": [
    {
     "data": {
      "text/plain": [
       "14.33370    2\n",
       "0.01501     2\n",
       "0.08265     1\n",
       "0.53700     1\n",
       "1.35472     1\n",
       "0.14103     1\n",
       "0.03502     1\n",
       "0.03615     1\n",
       "0.66351     1\n",
       "0.12650     1\n",
       "0.10469     1\n",
       "0.25356     1\n",
       "0.10000     1\n",
       "0.05515     1\n",
       "0.11027     1\n",
       "4.26131     1\n",
       "0.34109     1\n",
       "22.59710    1\n",
       "0.28955     1\n",
       "4.34879     1\n",
       "0.10574     1\n",
       "3.47428     1\n",
       "0.02009     1\n",
       "0.14866     1\n",
       "5.66637     1\n",
       "15.87440    1\n",
       "0.04297     1\n",
       "0.78570     1\n",
       "0.29090     1\n",
       "1.23247     1\n",
       "           ..\n",
       "0.05602     1\n",
       "0.26838     1\n",
       "0.02177     1\n",
       "1.83377     1\n",
       "15.86030    1\n",
       "7.67202     1\n",
       "51.13580    1\n",
       "15.17720    1\n",
       "8.05579     1\n",
       "10.06230    1\n",
       "41.52920    1\n",
       "0.32264     1\n",
       "0.04379     1\n",
       "0.22212     1\n",
       "0.13117     1\n",
       "0.51183     1\n",
       "6.28807     1\n",
       "0.08826     1\n",
       "24.80170    1\n",
       "0.09065     1\n",
       "23.64820    1\n",
       "3.56868     1\n",
       "12.80230    1\n",
       "0.72580     1\n",
       "0.03113     1\n",
       "13.67810    1\n",
       "0.88125     1\n",
       "0.01951     1\n",
       "0.49298     1\n",
       "0.03578     1\n",
       "Name: CRIM, Length: 504, dtype: int64"
      ]
     },
     "execution_count": 11,
     "metadata": {},
     "output_type": "execute_result"
    }
   ],
   "source": [
    "x.CRIM.value_counts()"
   ]
  },
  {
   "cell_type": "code",
   "execution_count": 12,
   "metadata": {},
   "outputs": [],
   "source": [
    "# CRIM - уровень преступности, числовой, нормализация\n",
    "cols_norm.append('CRIM')"
   ]
  },
  {
   "cell_type": "code",
   "execution_count": 13,
   "metadata": {},
   "outputs": [
    {
     "data": {
      "text/plain": [
       "0.0      372\n",
       "20.0      21\n",
       "80.0      15\n",
       "12.5      10\n",
       "22.0      10\n",
       "25.0      10\n",
       "40.0       7\n",
       "45.0       6\n",
       "30.0       6\n",
       "90.0       5\n",
       "21.0       4\n",
       "95.0       4\n",
       "60.0       4\n",
       "33.0       4\n",
       "75.0       3\n",
       "35.0       3\n",
       "28.0       3\n",
       "55.0       3\n",
       "52.5       3\n",
       "70.0       3\n",
       "34.0       3\n",
       "85.0       2\n",
       "82.5       2\n",
       "17.5       1\n",
       "100.0      1\n",
       "18.0       1\n",
       "Name: ZN, dtype: int64"
      ]
     },
     "execution_count": 13,
     "metadata": {},
     "output_type": "execute_result"
    }
   ],
   "source": [
    "x.ZN.value_counts()"
   ]
  },
  {
   "cell_type": "code",
   "execution_count": 14,
   "metadata": {},
   "outputs": [],
   "source": [
    "# ZN - доля жилой площади для лотов площадью более 25 тысяч футов, числовой, нормализация\n",
    "cols_norm.append('ZN')"
   ]
  },
  {
   "cell_type": "code",
   "execution_count": 15,
   "metadata": {},
   "outputs": [
    {
     "data": {
      "text/plain": [
       "18.10    132\n",
       "19.58     30\n",
       "8.14      22\n",
       "6.20      18\n",
       "21.89     15\n",
       "9.90      12\n",
       "3.97      12\n",
       "8.56      11\n",
       "10.59     11\n",
       "5.86      10\n",
       "10.01      9\n",
       "6.91       9\n",
       "7.38       8\n",
       "2.46       8\n",
       "5.19       8\n",
       "9.69       8\n",
       "7.87       7\n",
       "25.65      7\n",
       "2.18       7\n",
       "4.05       7\n",
       "5.13       6\n",
       "3.44       6\n",
       "12.83      6\n",
       "4.93       6\n",
       "13.92      5\n",
       "6.96       5\n",
       "27.74      5\n",
       "11.93      5\n",
       "2.89       5\n",
       "6.41       5\n",
       "        ... \n",
       "2.03       2\n",
       "7.07       2\n",
       "1.91       2\n",
       "2.93       2\n",
       "6.06       2\n",
       "1.47       2\n",
       "3.37       2\n",
       "1.69       2\n",
       "2.95       2\n",
       "1.25       2\n",
       "3.64       2\n",
       "3.78       2\n",
       "2.68       2\n",
       "4.39       2\n",
       "1.38       1\n",
       "2.97       1\n",
       "2.25       1\n",
       "3.75       1\n",
       "1.89       1\n",
       "1.22       1\n",
       "1.32       1\n",
       "0.74       1\n",
       "1.76       1\n",
       "2.31       1\n",
       "0.46       1\n",
       "1.21       1\n",
       "4.15       1\n",
       "2.02       1\n",
       "2.01       1\n",
       "4.00       1\n",
       "Name: INDUS, Length: 76, dtype: int64"
      ]
     },
     "execution_count": 15,
     "metadata": {},
     "output_type": "execute_result"
    }
   ],
   "source": [
    "x.INDUS.value_counts()"
   ]
  },
  {
   "cell_type": "code",
   "execution_count": 16,
   "metadata": {},
   "outputs": [],
   "source": [
    "# INDUS - доля некоммерческой недвижимости (?), числовой, нормализация\n",
    "cols_norm.append('INDUS')"
   ]
  },
  {
   "cell_type": "code",
   "execution_count": 17,
   "metadata": {},
   "outputs": [
    {
     "data": {
      "text/plain": [
       "0.0    471\n",
       "1.0     35\n",
       "Name: CHAS, dtype: int64"
      ]
     },
     "execution_count": 17,
     "metadata": {},
     "output_type": "execute_result"
    }
   ],
   "source": [
    "x.CHAS.value_counts()"
   ]
  },
  {
   "cell_type": "code",
   "execution_count": 18,
   "metadata": {},
   "outputs": [],
   "source": [
    "# CHAS - Charles River dummy variable (не совсем понятно, что это), категориальный бинарный, one hot encoding\n",
    "cols_dummy.append('CHAS')"
   ]
  },
  {
   "cell_type": "code",
   "execution_count": 19,
   "metadata": {},
   "outputs": [
    {
     "data": {
      "text/plain": [
       "0.5380    23\n",
       "0.7130    18\n",
       "0.4370    17\n",
       "0.8710    16\n",
       "0.4890    15\n",
       "0.6240    15\n",
       "0.6930    14\n",
       "0.6050    14\n",
       "0.7400    13\n",
       "0.5440    12\n",
       "0.7000    11\n",
       "0.5200    11\n",
       "0.6470    10\n",
       "0.5070    10\n",
       "0.4310    10\n",
       "0.4480     9\n",
       "0.5470     9\n",
       "0.4880     8\n",
       "0.4640     8\n",
       "0.4930     8\n",
       "0.7700     8\n",
       "0.4280     8\n",
       "0.5040     8\n",
       "0.5850     8\n",
       "0.5840     8\n",
       "0.5150     8\n",
       "0.6790     8\n",
       "0.5240     7\n",
       "0.5810     7\n",
       "0.6140     7\n",
       "          ..\n",
       "0.4429     4\n",
       "0.4000     4\n",
       "0.4050     3\n",
       "0.4100     3\n",
       "0.6550     3\n",
       "0.4090     3\n",
       "0.4290     3\n",
       "0.4580     3\n",
       "0.4330     3\n",
       "0.4040     3\n",
       "0.6680     3\n",
       "0.4161     3\n",
       "0.4010     3\n",
       "0.4030     3\n",
       "0.4600     3\n",
       "0.4420     3\n",
       "0.5750     2\n",
       "0.3980     2\n",
       "0.4690     2\n",
       "0.4840     2\n",
       "0.3920     2\n",
       "0.4150     2\n",
       "0.6590     2\n",
       "0.4379     2\n",
       "0.4350     1\n",
       "0.3850     1\n",
       "0.3940     1\n",
       "0.5180     1\n",
       "0.4220     1\n",
       "0.3890     1\n",
       "Name: NOX, Length: 81, dtype: int64"
      ]
     },
     "execution_count": 19,
     "metadata": {},
     "output_type": "execute_result"
    }
   ],
   "source": [
    "x.NOX.value_counts()"
   ]
  },
  {
   "cell_type": "code",
   "execution_count": 20,
   "metadata": {},
   "outputs": [],
   "source": [
    "# NOX - уровень концентрации оксидов азота, числовой, нормализация\n",
    "cols_norm.append('NOX')"
   ]
  },
  {
   "cell_type": "code",
   "execution_count": 21,
   "metadata": {},
   "outputs": [
    {
     "data": {
      "text/plain": [
       "6.167    3\n",
       "6.229    3\n",
       "6.127    3\n",
       "5.713    3\n",
       "6.417    3\n",
       "6.405    3\n",
       "6.380    2\n",
       "5.304    2\n",
       "5.983    2\n",
       "7.185    2\n",
       "5.856    2\n",
       "6.968    2\n",
       "7.820    2\n",
       "5.936    2\n",
       "6.030    2\n",
       "6.251    2\n",
       "6.431    2\n",
       "6.727    2\n",
       "6.004    2\n",
       "6.185    2\n",
       "6.193    2\n",
       "6.495    2\n",
       "5.757    2\n",
       "6.782    2\n",
       "6.951    2\n",
       "5.404    2\n",
       "6.009    2\n",
       "6.794    2\n",
       "6.315    2\n",
       "5.935    2\n",
       "        ..\n",
       "6.112    1\n",
       "6.006    1\n",
       "7.147    1\n",
       "5.468    1\n",
       "5.707    1\n",
       "7.267    1\n",
       "6.800    1\n",
       "5.818    1\n",
       "6.430    1\n",
       "6.762    1\n",
       "6.593    1\n",
       "7.178    1\n",
       "5.570    1\n",
       "5.884    1\n",
       "6.471    1\n",
       "7.107    1\n",
       "6.382    1\n",
       "6.575    1\n",
       "7.287    1\n",
       "5.898    1\n",
       "5.403    1\n",
       "8.266    1\n",
       "6.101    1\n",
       "5.093    1\n",
       "5.036    1\n",
       "6.552    1\n",
       "4.368    1\n",
       "6.174    1\n",
       "6.701    1\n",
       "6.625    1\n",
       "Name: RM, Length: 446, dtype: int64"
      ]
     },
     "execution_count": 21,
     "metadata": {},
     "output_type": "execute_result"
    }
   ],
   "source": [
    "x.RM.value_counts()"
   ]
  },
  {
   "cell_type": "code",
   "execution_count": 22,
   "metadata": {},
   "outputs": [],
   "source": [
    "# RM - среднее количество комнат в доме, числовой, нормализация\n",
    "cols_norm.append('RM')"
   ]
  },
  {
   "cell_type": "code",
   "execution_count": 23,
   "metadata": {},
   "outputs": [
    {
     "data": {
      "text/plain": [
       "100.0    43\n",
       "96.0      4\n",
       "98.2      4\n",
       "95.4      4\n",
       "97.9      4\n",
       "87.9      4\n",
       "98.8      4\n",
       "94.1      3\n",
       "88.0      3\n",
       "21.4      3\n",
       "96.2      3\n",
       "98.9      3\n",
       "97.3      3\n",
       "32.2      3\n",
       "97.0      3\n",
       "92.6      3\n",
       "36.6      3\n",
       "97.4      3\n",
       "95.6      3\n",
       "76.5      3\n",
       "94.5      2\n",
       "91.9      2\n",
       "6.6       2\n",
       "77.7      2\n",
       "18.5      2\n",
       "21.9      2\n",
       "84.1      2\n",
       "94.6      2\n",
       "82.6      2\n",
       "93.6      2\n",
       "         ..\n",
       "77.8      1\n",
       "78.9      1\n",
       "38.1      1\n",
       "66.6      1\n",
       "37.2      1\n",
       "89.9      1\n",
       "74.8      1\n",
       "61.8      1\n",
       "45.6      1\n",
       "78.3      1\n",
       "96.8      1\n",
       "95.7      1\n",
       "62.2      1\n",
       "73.9      1\n",
       "44.4      1\n",
       "97.8      1\n",
       "24.8      1\n",
       "68.2      1\n",
       "35.9      1\n",
       "64.7      1\n",
       "18.8      1\n",
       "46.7      1\n",
       "27.6      1\n",
       "97.7      1\n",
       "81.3      1\n",
       "47.6      1\n",
       "92.7      1\n",
       "13.9      1\n",
       "58.4      1\n",
       "40.1      1\n",
       "Name: AGE, Length: 356, dtype: int64"
      ]
     },
     "execution_count": 23,
     "metadata": {},
     "output_type": "execute_result"
    }
   ],
   "source": [
    "x.AGE.value_counts()"
   ]
  },
  {
   "cell_type": "code",
   "execution_count": 24,
   "metadata": {},
   "outputs": [],
   "source": [
    "# AGE - доля объектов, построенных до 1940 года, числовой, нормализация\n",
    "cols_norm.append('AGE')"
   ]
  },
  {
   "cell_type": "code",
   "execution_count": 25,
   "metadata": {},
   "outputs": [
    {
     "data": {
      "text/plain": [
       "3.4952    5\n",
       "5.2873    4\n",
       "5.4007    4\n",
       "5.7209    4\n",
       "6.8147    4\n",
       "3.6519    3\n",
       "7.3172    3\n",
       "5.4917    3\n",
       "7.8278    3\n",
       "5.4159    3\n",
       "6.4980    3\n",
       "7.3090    3\n",
       "4.8122    3\n",
       "6.0622    3\n",
       "6.4798    3\n",
       "5.1167    3\n",
       "6.3361    3\n",
       "3.9454    3\n",
       "4.7211    3\n",
       "3.3751    2\n",
       "2.4259    2\n",
       "3.7965    2\n",
       "3.2721    2\n",
       "7.9549    2\n",
       "7.3073    2\n",
       "2.7147    2\n",
       "4.3549    2\n",
       "5.1180    2\n",
       "4.1480    2\n",
       "5.9604    2\n",
       "         ..\n",
       "1.9265    1\n",
       "3.4106    1\n",
       "2.7831    1\n",
       "3.8771    1\n",
       "2.2565    1\n",
       "1.4655    1\n",
       "3.7886    1\n",
       "3.0993    1\n",
       "3.9986    1\n",
       "2.4631    1\n",
       "2.2616    1\n",
       "7.2255    1\n",
       "3.1025    1\n",
       "2.8290    1\n",
       "2.4210    1\n",
       "2.1974    1\n",
       "4.4619    1\n",
       "2.4329    1\n",
       "1.3216    1\n",
       "1.8773    1\n",
       "3.3779    1\n",
       "3.5459    1\n",
       "1.7984    1\n",
       "2.5480    1\n",
       "1.7659    1\n",
       "3.5549    1\n",
       "4.4534    1\n",
       "2.1000    1\n",
       "4.0905    1\n",
       "1.8125    1\n",
       "Name: DIS, Length: 412, dtype: int64"
      ]
     },
     "execution_count": 25,
     "metadata": {},
     "output_type": "execute_result"
    }
   ],
   "source": [
    "x.DIS.value_counts()"
   ]
  },
  {
   "cell_type": "code",
   "execution_count": 26,
   "metadata": {},
   "outputs": [],
   "source": [
    "# DIS - среднее (усредненное, средневзвешенное) расстояние до пяти центор занятости Бостона, числовой, нормализация\n",
    "cols_norm.append('DIS')"
   ]
  },
  {
   "cell_type": "code",
   "execution_count": 27,
   "metadata": {},
   "outputs": [
    {
     "data": {
      "text/plain": [
       "24.0    132\n",
       "5.0     115\n",
       "4.0     110\n",
       "3.0      38\n",
       "6.0      26\n",
       "8.0      24\n",
       "2.0      24\n",
       "1.0      20\n",
       "7.0      17\n",
       "Name: RAD, dtype: int64"
      ]
     },
     "execution_count": 27,
     "metadata": {},
     "output_type": "execute_result"
    }
   ],
   "source": [
    "x.RAD.value_counts()"
   ]
  },
  {
   "cell_type": "code",
   "execution_count": 28,
   "metadata": {},
   "outputs": [],
   "source": [
    "# RAD - индекс доступности радиальных автомагистралей, числовой (хотя можно рассмотреть и как категориальный), нормализация\n",
    "cols_norm.append('RAD')"
   ]
  },
  {
   "cell_type": "code",
   "execution_count": 29,
   "metadata": {},
   "outputs": [
    {
     "data": {
      "text/plain": [
       "666.0    132\n",
       "307.0     40\n",
       "403.0     30\n",
       "437.0     15\n",
       "304.0     14\n",
       "264.0     12\n",
       "398.0     12\n",
       "277.0     11\n",
       "384.0     11\n",
       "330.0     10\n",
       "224.0     10\n",
       "432.0      9\n",
       "233.0      9\n",
       "276.0      9\n",
       "391.0      8\n",
       "193.0      8\n",
       "296.0      8\n",
       "287.0      8\n",
       "188.0      7\n",
       "270.0      7\n",
       "300.0      7\n",
       "311.0      7\n",
       "284.0      7\n",
       "222.0      7\n",
       "329.0      6\n",
       "216.0      5\n",
       "223.0      5\n",
       "254.0      5\n",
       "273.0      5\n",
       "711.0      5\n",
       "        ... \n",
       "345.0      3\n",
       "293.0      3\n",
       "430.0      3\n",
       "245.0      3\n",
       "358.0      3\n",
       "242.0      2\n",
       "411.0      2\n",
       "348.0      2\n",
       "402.0      2\n",
       "252.0      2\n",
       "337.0      2\n",
       "335.0      2\n",
       "265.0      2\n",
       "315.0      2\n",
       "370.0      2\n",
       "334.0      2\n",
       "352.0      2\n",
       "351.0      1\n",
       "226.0      1\n",
       "256.0      1\n",
       "244.0      1\n",
       "241.0      1\n",
       "198.0      1\n",
       "285.0      1\n",
       "422.0      1\n",
       "187.0      1\n",
       "255.0      1\n",
       "313.0      1\n",
       "469.0      1\n",
       "280.0      1\n",
       "Name: TAX, Length: 66, dtype: int64"
      ]
     },
     "execution_count": 29,
     "metadata": {},
     "output_type": "execute_result"
    }
   ],
   "source": [
    "x.TAX.value_counts()"
   ]
  },
  {
   "cell_type": "code",
   "execution_count": 30,
   "metadata": {},
   "outputs": [],
   "source": [
    "# TAX - сумма налога на имущество на 10 тысяч долларов стоимости объекта, числовой, нормализация\n",
    "cols_norm.append('TAX')"
   ]
  },
  {
   "cell_type": "code",
   "execution_count": 31,
   "metadata": {},
   "outputs": [
    {
     "data": {
      "text/plain": [
       "20.2    140\n",
       "14.7     34\n",
       "21.0     27\n",
       "17.8     23\n",
       "19.2     19\n",
       "17.4     18\n",
       "18.6     17\n",
       "19.1     17\n",
       "16.6     16\n",
       "18.4     16\n",
       "21.2     15\n",
       "15.2     13\n",
       "13.0     12\n",
       "20.9     11\n",
       "17.9     11\n",
       "18.7      9\n",
       "19.7      8\n",
       "19.6      8\n",
       "17.6      7\n",
       "16.4      6\n",
       "18.0      5\n",
       "16.0      5\n",
       "20.1      5\n",
       "16.1      5\n",
       "16.9      5\n",
       "16.8      4\n",
       "14.9      4\n",
       "19.0      4\n",
       "18.5      4\n",
       "17.0      4\n",
       "18.2      4\n",
       "18.3      4\n",
       "12.6      3\n",
       "14.8      3\n",
       "18.9      3\n",
       "15.3      3\n",
       "15.9      2\n",
       "22.0      2\n",
       "15.6      2\n",
       "18.8      2\n",
       "15.5      1\n",
       "17.3      1\n",
       "15.1      1\n",
       "21.1      1\n",
       "13.6      1\n",
       "14.4      1\n",
       "Name: PTRATIO, dtype: int64"
      ]
     },
     "execution_count": 31,
     "metadata": {},
     "output_type": "execute_result"
    }
   ],
   "source": [
    "x.PTRATIO.value_counts()"
   ]
  },
  {
   "cell_type": "code",
   "execution_count": 32,
   "metadata": {},
   "outputs": [],
   "source": [
    "# PTRATIO - количество учеников на одного учителя, числовой, нормализация\n",
    "cols_norm.append('PTRATIO')"
   ]
  },
  {
   "cell_type": "code",
   "execution_count": 33,
   "metadata": {},
   "outputs": [
    {
     "data": {
      "text/plain": [
       "396.90    121\n",
       "395.24      3\n",
       "393.74      3\n",
       "393.23      2\n",
       "394.72      2\n",
       "396.21      2\n",
       "395.69      2\n",
       "396.06      2\n",
       "395.63      2\n",
       "395.60      2\n",
       "392.78      2\n",
       "391.34      2\n",
       "395.58      2\n",
       "377.07      2\n",
       "394.12      2\n",
       "395.11      2\n",
       "376.14      2\n",
       "395.56      2\n",
       "389.71      2\n",
       "390.94      2\n",
       "341.60      2\n",
       "388.45      2\n",
       "393.37      2\n",
       "393.68      2\n",
       "392.80      2\n",
       "393.45      2\n",
       "395.62      2\n",
       "374.71      2\n",
       "392.20      1\n",
       "394.62      1\n",
       "         ... \n",
       "392.85      1\n",
       "384.54      1\n",
       "384.07      1\n",
       "376.94      1\n",
       "394.95      1\n",
       "24.65       1\n",
       "334.40      1\n",
       "285.83      1\n",
       "387.89      1\n",
       "379.38      1\n",
       "386.40      1\n",
       "379.41      1\n",
       "379.70      1\n",
       "390.07      1\n",
       "382.84      1\n",
       "393.25      1\n",
       "354.70      1\n",
       "395.93      1\n",
       "362.25      1\n",
       "318.75      1\n",
       "395.01      1\n",
       "43.06       1\n",
       "391.98      1\n",
       "354.31      1\n",
       "388.08      1\n",
       "394.46      1\n",
       "288.99      1\n",
       "390.30      1\n",
       "248.31      1\n",
       "390.50      1\n",
       "Name: B, Length: 357, dtype: int64"
      ]
     },
     "execution_count": 33,
     "metadata": {},
     "output_type": "execute_result"
    }
   ],
   "source": [
    "x.B.value_counts()"
   ]
  },
  {
   "cell_type": "code",
   "execution_count": 34,
   "metadata": {},
   "outputs": [],
   "source": [
    "# B - показатель, отражающий долю чернокожего населения, числовой, нормализация\n",
    "cols_norm.append('B')"
   ]
  },
  {
   "cell_type": "code",
   "execution_count": 35,
   "metadata": {},
   "outputs": [
    {
     "data": {
      "text/plain": [
       "14.10    3\n",
       "6.36     3\n",
       "18.13    3\n",
       "8.05     3\n",
       "7.79     3\n",
       "9.50     2\n",
       "4.59     2\n",
       "3.76     2\n",
       "17.27    2\n",
       "10.11    2\n",
       "4.56     2\n",
       "3.16     2\n",
       "15.17    2\n",
       "23.98    2\n",
       "10.45    2\n",
       "14.81    2\n",
       "5.68     2\n",
       "6.72     2\n",
       "12.43    2\n",
       "7.44     2\n",
       "15.02    2\n",
       "13.15    2\n",
       "8.10     2\n",
       "30.81    2\n",
       "18.06    2\n",
       "7.60     2\n",
       "12.03    2\n",
       "17.60    2\n",
       "3.53     2\n",
       "3.11     2\n",
       "        ..\n",
       "17.58    1\n",
       "26.45    1\n",
       "7.74     1\n",
       "6.92     1\n",
       "9.28     1\n",
       "20.34    1\n",
       "16.47    1\n",
       "3.26     1\n",
       "5.91     1\n",
       "4.03     1\n",
       "10.29    1\n",
       "7.14     1\n",
       "6.90     1\n",
       "3.73     1\n",
       "13.33    1\n",
       "29.53    1\n",
       "14.15    1\n",
       "12.64    1\n",
       "6.57     1\n",
       "14.64    1\n",
       "13.22    1\n",
       "10.63    1\n",
       "27.80    1\n",
       "13.09    1\n",
       "6.43     1\n",
       "9.69     1\n",
       "9.62     1\n",
       "5.64     1\n",
       "22.98    1\n",
       "29.05    1\n",
       "Name: LSTAT, Length: 455, dtype: int64"
      ]
     },
     "execution_count": 35,
     "metadata": {},
     "output_type": "execute_result"
    }
   ],
   "source": [
    "x.LSTAT.value_counts()"
   ]
  },
  {
   "cell_type": "code",
   "execution_count": 36,
   "metadata": {},
   "outputs": [],
   "source": [
    "# LSTAT - доля населения за чертой бедности (но это не точно), числовой, нормализация\n",
    "cols_norm.append('LSTAT')"
   ]
  },
  {
   "cell_type": "code",
   "execution_count": 37,
   "metadata": {},
   "outputs": [
    {
     "data": {
      "text/plain": [
       "50.0    16\n",
       "25.0     8\n",
       "23.1     7\n",
       "21.7     7\n",
       "22.0     7\n",
       "20.6     6\n",
       "19.4     6\n",
       "20.1     5\n",
       "19.6     5\n",
       "19.3     5\n",
       "15.6     5\n",
       "21.4     5\n",
       "13.8     5\n",
       "21.2     5\n",
       "20.0     5\n",
       "17.8     5\n",
       "23.9     5\n",
       "22.6     5\n",
       "22.2     5\n",
       "24.4     4\n",
       "23.2     4\n",
       "23.8     4\n",
       "19.1     4\n",
       "20.3     4\n",
       "13.4     4\n",
       "19.9     4\n",
       "27.5     4\n",
       "22.8     4\n",
       "22.9     4\n",
       "18.9     4\n",
       "        ..\n",
       "12.3     1\n",
       "37.6     1\n",
       "29.4     1\n",
       "12.6     1\n",
       "22.1     1\n",
       "31.1     1\n",
       "48.3     1\n",
       "26.2     1\n",
       "11.0     1\n",
       "9.5      1\n",
       "12.0     1\n",
       "17.7     1\n",
       "44.8     1\n",
       "35.1     1\n",
       "32.4     1\n",
       "42.3     1\n",
       "28.2     1\n",
       "31.2     1\n",
       "33.3     1\n",
       "37.2     1\n",
       "28.6     1\n",
       "15.1     1\n",
       "17.3     1\n",
       "6.3      1\n",
       "39.8     1\n",
       "12.8     1\n",
       "29.9     1\n",
       "9.6      1\n",
       "36.1     1\n",
       "13.0     1\n",
       "Length: 229, dtype: int64"
      ]
     },
     "execution_count": 37,
     "metadata": {},
     "output_type": "execute_result"
    }
   ],
   "source": [
    "y.value_counts()"
   ]
  },
  {
   "cell_type": "code",
   "execution_count": 38,
   "metadata": {},
   "outputs": [],
   "source": [
    "# целевая переменная - стоимость единицы площади недвижимости (судя по всему, квадратного фута)"
   ]
  },
  {
   "cell_type": "markdown",
   "metadata": {},
   "source": [
    "### Разделяем данные на обучающую и валидационную выборки ###"
   ]
  },
  {
   "cell_type": "code",
   "execution_count": 39,
   "metadata": {},
   "outputs": [
    {
     "data": {
      "text/plain": [
       "((404, 13), (102, 13), (404,), (102,))"
      ]
     },
     "execution_count": 39,
     "metadata": {},
     "output_type": "execute_result"
    }
   ],
   "source": [
    "from sklearn.model_selection import train_test_split\n",
    "x_train, x_valid, y_train, y_valid = train_test_split(x, y, test_size=0.2)\n",
    "x_train.shape, x_valid.shape, y_train.shape, y_valid.shape"
   ]
  },
  {
   "cell_type": "markdown",
   "metadata": {},
   "source": [
    "### Препроцессинг данных ###"
   ]
  },
  {
   "cell_type": "code",
   "execution_count": 40,
   "metadata": {},
   "outputs": [
    {
     "data": {
      "text/plain": [
       "([],\n",
       " ['CHAS'],\n",
       " [],\n",
       " ['CRIM',\n",
       "  'ZN',\n",
       "  'INDUS',\n",
       "  'NOX',\n",
       "  'RM',\n",
       "  'AGE',\n",
       "  'DIS',\n",
       "  'RAD',\n",
       "  'TAX',\n",
       "  'PTRATIO',\n",
       "  'B',\n",
       "  'LSTAT'])"
      ]
     },
     "execution_count": 40,
     "metadata": {},
     "output_type": "execute_result"
    }
   ],
   "source": [
    "cols_drop, cols_dummy, cols_le, cols_norm"
   ]
  },
  {
   "cell_type": "code",
   "execution_count": 41,
   "metadata": {},
   "outputs": [],
   "source": [
    "del cols_drop\n",
    "del cols_le"
   ]
  },
  {
   "cell_type": "code",
   "execution_count": 42,
   "metadata": {},
   "outputs": [
    {
     "name": "stderr",
     "output_type": "stream",
     "text": [
      "C:\\ProgramData\\Anaconda3\\lib\\site-packages\\ipykernel_launcher.py:5: SettingWithCopyWarning: \n",
      "A value is trying to be set on a copy of a slice from a DataFrame.\n",
      "Try using .loc[row_indexer,col_indexer] = value instead\n",
      "\n",
      "See the caveats in the documentation: http://pandas.pydata.org/pandas-docs/stable/indexing.html#indexing-view-versus-copy\n",
      "  \"\"\"\n",
      "C:\\ProgramData\\Anaconda3\\lib\\site-packages\\pandas\\core\\frame.py:3144: SettingWithCopyWarning: \n",
      "A value is trying to be set on a copy of a slice from a DataFrame\n",
      "\n",
      "See the caveats in the documentation: http://pandas.pydata.org/pandas-docs/stable/indexing.html#indexing-view-versus-copy\n",
      "  self.loc._setitem_with_indexer((slice(None), indexer), value)\n",
      "C:\\ProgramData\\Anaconda3\\lib\\site-packages\\pandas\\core\\frame.py:3116: SettingWithCopyWarning: \n",
      "A value is trying to be set on a copy of a slice from a DataFrame\n",
      "\n",
      "See the caveats in the documentation: http://pandas.pydata.org/pandas-docs/stable/indexing.html#indexing-view-versus-copy\n",
      "  self._setitem_array(key, value)\n",
      "C:\\ProgramData\\Anaconda3\\lib\\site-packages\\ipykernel_launcher.py:6: SettingWithCopyWarning: \n",
      "A value is trying to be set on a copy of a slice from a DataFrame.\n",
      "Try using .loc[row_indexer,col_indexer] = value instead\n",
      "\n",
      "See the caveats in the documentation: http://pandas.pydata.org/pandas-docs/stable/indexing.html#indexing-view-versus-copy\n",
      "  \n",
      "C:\\ProgramData\\Anaconda3\\lib\\site-packages\\pandas\\core\\frame.py:3144: SettingWithCopyWarning: \n",
      "A value is trying to be set on a copy of a slice from a DataFrame\n",
      "\n",
      "See the caveats in the documentation: http://pandas.pydata.org/pandas-docs/stable/indexing.html#indexing-view-versus-copy\n",
      "  self.loc._setitem_with_indexer((slice(None), indexer), value)\n",
      "C:\\ProgramData\\Anaconda3\\lib\\site-packages\\pandas\\core\\frame.py:3116: SettingWithCopyWarning: \n",
      "A value is trying to be set on a copy of a slice from a DataFrame\n",
      "\n",
      "See the caveats in the documentation: http://pandas.pydata.org/pandas-docs/stable/indexing.html#indexing-view-versus-copy\n",
      "  self._setitem_array(key, value)\n"
     ]
    }
   ],
   "source": [
    "# нормализуем числовые данные\n",
    "from sklearn.preprocessing import StandardScaler\n",
    "scaler = StandardScaler()\n",
    "scaler.fit(x_train[cols_norm])\n",
    "x_train[cols_norm] = scaler.transform(x_train[cols_norm])\n",
    "x_valid[cols_norm] = scaler.transform(x_valid[cols_norm])"
   ]
  },
  {
   "cell_type": "code",
   "execution_count": 43,
   "metadata": {},
   "outputs": [
    {
     "data": {
      "text/html": [
       "<div>\n",
       "<style scoped>\n",
       "    .dataframe tbody tr th:only-of-type {\n",
       "        vertical-align: middle;\n",
       "    }\n",
       "\n",
       "    .dataframe tbody tr th {\n",
       "        vertical-align: top;\n",
       "    }\n",
       "\n",
       "    .dataframe thead th {\n",
       "        text-align: right;\n",
       "    }\n",
       "</style>\n",
       "<table border=\"1\" class=\"dataframe\">\n",
       "  <thead>\n",
       "    <tr style=\"text-align: right;\">\n",
       "      <th></th>\n",
       "      <th>CRIM</th>\n",
       "      <th>ZN</th>\n",
       "      <th>INDUS</th>\n",
       "      <th>CHAS</th>\n",
       "      <th>NOX</th>\n",
       "      <th>RM</th>\n",
       "      <th>AGE</th>\n",
       "      <th>DIS</th>\n",
       "      <th>RAD</th>\n",
       "      <th>TAX</th>\n",
       "      <th>PTRATIO</th>\n",
       "      <th>B</th>\n",
       "      <th>LSTAT</th>\n",
       "    </tr>\n",
       "  </thead>\n",
       "  <tbody>\n",
       "    <tr>\n",
       "      <th>504</th>\n",
       "      <td>-0.394690</td>\n",
       "      <td>-0.506120</td>\n",
       "      <td>0.146294</td>\n",
       "      <td>0.0</td>\n",
       "      <td>0.204548</td>\n",
       "      <td>0.722647</td>\n",
       "      <td>0.767258</td>\n",
       "      <td>-0.698988</td>\n",
       "      <td>-0.975944</td>\n",
       "      <td>-0.795477</td>\n",
       "      <td>1.178327</td>\n",
       "      <td>0.384589</td>\n",
       "      <td>-0.843110</td>\n",
       "    </tr>\n",
       "    <tr>\n",
       "      <th>393</th>\n",
       "      <td>0.520528</td>\n",
       "      <td>-0.506120</td>\n",
       "      <td>1.054252</td>\n",
       "      <td>0.0</td>\n",
       "      <td>1.256326</td>\n",
       "      <td>-0.158622</td>\n",
       "      <td>0.883727</td>\n",
       "      <td>-0.977516</td>\n",
       "      <td>1.697544</td>\n",
       "      <td>1.573231</td>\n",
       "      <td>0.810050</td>\n",
       "      <td>0.423408</td>\n",
       "      <td>0.403156</td>\n",
       "    </tr>\n",
       "    <tr>\n",
       "      <th>341</th>\n",
       "      <td>-0.405046</td>\n",
       "      <td>0.967935</td>\n",
       "      <td>-1.385610</td>\n",
       "      <td>0.0</td>\n",
       "      <td>-0.943643</td>\n",
       "      <td>1.378101</td>\n",
       "      <td>-0.644482</td>\n",
       "      <td>1.467443</td>\n",
       "      <td>-0.975944</td>\n",
       "      <td>-0.729177</td>\n",
       "      <td>-1.353577</td>\n",
       "      <td>0.399104</td>\n",
       "      <td>-0.985089</td>\n",
       "    </tr>\n",
       "    <tr>\n",
       "      <th>250</th>\n",
       "      <td>-0.391397</td>\n",
       "      <td>0.420429</td>\n",
       "      <td>-0.746949</td>\n",
       "      <td>0.0</td>\n",
       "      <td>-1.040056</td>\n",
       "      <td>0.272481</td>\n",
       "      <td>-1.925637</td>\n",
       "      <td>1.634644</td>\n",
       "      <td>-0.278512</td>\n",
       "      <td>-0.451924</td>\n",
       "      <td>0.303669</td>\n",
       "      <td>0.416432</td>\n",
       "      <td>-0.926290</td>\n",
       "    </tr>\n",
       "    <tr>\n",
       "      <th>155</th>\n",
       "      <td>-0.027385</td>\n",
       "      <td>-0.506120</td>\n",
       "      <td>1.272044</td>\n",
       "      <td>1.0</td>\n",
       "      <td>2.816462</td>\n",
       "      <td>-0.218742</td>\n",
       "      <td>0.530792</td>\n",
       "      <td>-0.998812</td>\n",
       "      <td>-0.510990</td>\n",
       "      <td>-0.011935</td>\n",
       "      <td>-1.721854</td>\n",
       "      <td>-3.052248</td>\n",
       "      <td>0.381644</td>\n",
       "    </tr>\n",
       "  </tbody>\n",
       "</table>\n",
       "</div>"
      ],
      "text/plain": [
       "         CRIM        ZN     INDUS  CHAS       NOX        RM       AGE  \\\n",
       "504 -0.394690 -0.506120  0.146294   0.0  0.204548  0.722647  0.767258   \n",
       "393  0.520528 -0.506120  1.054252   0.0  1.256326 -0.158622  0.883727   \n",
       "341 -0.405046  0.967935 -1.385610   0.0 -0.943643  1.378101 -0.644482   \n",
       "250 -0.391397  0.420429 -0.746949   0.0 -1.040056  0.272481 -1.925637   \n",
       "155 -0.027385 -0.506120  1.272044   1.0  2.816462 -0.218742  0.530792   \n",
       "\n",
       "          DIS       RAD       TAX   PTRATIO         B     LSTAT  \n",
       "504 -0.698988 -0.975944 -0.795477  1.178327  0.384589 -0.843110  \n",
       "393 -0.977516  1.697544  1.573231  0.810050  0.423408  0.403156  \n",
       "341  1.467443 -0.975944 -0.729177 -1.353577  0.399104 -0.985089  \n",
       "250  1.634644 -0.278512 -0.451924  0.303669  0.416432 -0.926290  \n",
       "155 -0.998812 -0.510990 -0.011935 -1.721854 -3.052248  0.381644  "
      ]
     },
     "execution_count": 43,
     "metadata": {},
     "output_type": "execute_result"
    }
   ],
   "source": [
    "x_train.head()"
   ]
  },
  {
   "cell_type": "code",
   "execution_count": 44,
   "metadata": {},
   "outputs": [],
   "source": [
    "# применяем one hot encoding к категориальным данным\n",
    "x_train = pd.get_dummies(x_train, columns=cols_dummy)\n",
    "x_valid = pd.get_dummies(x_valid, columns=cols_dummy)"
   ]
  },
  {
   "cell_type": "code",
   "execution_count": 45,
   "metadata": {},
   "outputs": [
    {
     "data": {
      "text/html": [
       "<div>\n",
       "<style scoped>\n",
       "    .dataframe tbody tr th:only-of-type {\n",
       "        vertical-align: middle;\n",
       "    }\n",
       "\n",
       "    .dataframe tbody tr th {\n",
       "        vertical-align: top;\n",
       "    }\n",
       "\n",
       "    .dataframe thead th {\n",
       "        text-align: right;\n",
       "    }\n",
       "</style>\n",
       "<table border=\"1\" class=\"dataframe\">\n",
       "  <thead>\n",
       "    <tr style=\"text-align: right;\">\n",
       "      <th></th>\n",
       "      <th>CRIM</th>\n",
       "      <th>ZN</th>\n",
       "      <th>INDUS</th>\n",
       "      <th>NOX</th>\n",
       "      <th>RM</th>\n",
       "      <th>AGE</th>\n",
       "      <th>DIS</th>\n",
       "      <th>RAD</th>\n",
       "      <th>TAX</th>\n",
       "      <th>PTRATIO</th>\n",
       "      <th>B</th>\n",
       "      <th>LSTAT</th>\n",
       "      <th>CHAS_0.0</th>\n",
       "      <th>CHAS_1.0</th>\n",
       "    </tr>\n",
       "  </thead>\n",
       "  <tbody>\n",
       "    <tr>\n",
       "      <th>504</th>\n",
       "      <td>-0.394690</td>\n",
       "      <td>-0.506120</td>\n",
       "      <td>0.146294</td>\n",
       "      <td>0.204548</td>\n",
       "      <td>0.722647</td>\n",
       "      <td>0.767258</td>\n",
       "      <td>-0.698988</td>\n",
       "      <td>-0.975944</td>\n",
       "      <td>-0.795477</td>\n",
       "      <td>1.178327</td>\n",
       "      <td>0.384589</td>\n",
       "      <td>-0.843110</td>\n",
       "      <td>1</td>\n",
       "      <td>0</td>\n",
       "    </tr>\n",
       "    <tr>\n",
       "      <th>393</th>\n",
       "      <td>0.520528</td>\n",
       "      <td>-0.506120</td>\n",
       "      <td>1.054252</td>\n",
       "      <td>1.256326</td>\n",
       "      <td>-0.158622</td>\n",
       "      <td>0.883727</td>\n",
       "      <td>-0.977516</td>\n",
       "      <td>1.697544</td>\n",
       "      <td>1.573231</td>\n",
       "      <td>0.810050</td>\n",
       "      <td>0.423408</td>\n",
       "      <td>0.403156</td>\n",
       "      <td>1</td>\n",
       "      <td>0</td>\n",
       "    </tr>\n",
       "    <tr>\n",
       "      <th>341</th>\n",
       "      <td>-0.405046</td>\n",
       "      <td>0.967935</td>\n",
       "      <td>-1.385610</td>\n",
       "      <td>-0.943643</td>\n",
       "      <td>1.378101</td>\n",
       "      <td>-0.644482</td>\n",
       "      <td>1.467443</td>\n",
       "      <td>-0.975944</td>\n",
       "      <td>-0.729177</td>\n",
       "      <td>-1.353577</td>\n",
       "      <td>0.399104</td>\n",
       "      <td>-0.985089</td>\n",
       "      <td>1</td>\n",
       "      <td>0</td>\n",
       "    </tr>\n",
       "    <tr>\n",
       "      <th>250</th>\n",
       "      <td>-0.391397</td>\n",
       "      <td>0.420429</td>\n",
       "      <td>-0.746949</td>\n",
       "      <td>-1.040056</td>\n",
       "      <td>0.272481</td>\n",
       "      <td>-1.925637</td>\n",
       "      <td>1.634644</td>\n",
       "      <td>-0.278512</td>\n",
       "      <td>-0.451924</td>\n",
       "      <td>0.303669</td>\n",
       "      <td>0.416432</td>\n",
       "      <td>-0.926290</td>\n",
       "      <td>1</td>\n",
       "      <td>0</td>\n",
       "    </tr>\n",
       "    <tr>\n",
       "      <th>155</th>\n",
       "      <td>-0.027385</td>\n",
       "      <td>-0.506120</td>\n",
       "      <td>1.272044</td>\n",
       "      <td>2.816462</td>\n",
       "      <td>-0.218742</td>\n",
       "      <td>0.530792</td>\n",
       "      <td>-0.998812</td>\n",
       "      <td>-0.510990</td>\n",
       "      <td>-0.011935</td>\n",
       "      <td>-1.721854</td>\n",
       "      <td>-3.052248</td>\n",
       "      <td>0.381644</td>\n",
       "      <td>0</td>\n",
       "      <td>1</td>\n",
       "    </tr>\n",
       "  </tbody>\n",
       "</table>\n",
       "</div>"
      ],
      "text/plain": [
       "         CRIM        ZN     INDUS       NOX        RM       AGE       DIS  \\\n",
       "504 -0.394690 -0.506120  0.146294  0.204548  0.722647  0.767258 -0.698988   \n",
       "393  0.520528 -0.506120  1.054252  1.256326 -0.158622  0.883727 -0.977516   \n",
       "341 -0.405046  0.967935 -1.385610 -0.943643  1.378101 -0.644482  1.467443   \n",
       "250 -0.391397  0.420429 -0.746949 -1.040056  0.272481 -1.925637  1.634644   \n",
       "155 -0.027385 -0.506120  1.272044  2.816462 -0.218742  0.530792 -0.998812   \n",
       "\n",
       "          RAD       TAX   PTRATIO         B     LSTAT  CHAS_0.0  CHAS_1.0  \n",
       "504 -0.975944 -0.795477  1.178327  0.384589 -0.843110         1         0  \n",
       "393  1.697544  1.573231  0.810050  0.423408  0.403156         1         0  \n",
       "341 -0.975944 -0.729177 -1.353577  0.399104 -0.985089         1         0  \n",
       "250 -0.278512 -0.451924  0.303669  0.416432 -0.926290         1         0  \n",
       "155 -0.510990 -0.011935 -1.721854 -3.052248  0.381644         0         1  "
      ]
     },
     "execution_count": 45,
     "metadata": {},
     "output_type": "execute_result"
    }
   ],
   "source": [
    "x_train.head()"
   ]
  },
  {
   "cell_type": "code",
   "execution_count": 46,
   "metadata": {},
   "outputs": [
    {
     "data": {
      "text/plain": [
       "set()"
      ]
     },
     "execution_count": 46,
     "metadata": {},
     "output_type": "execute_result"
    }
   ],
   "source": [
    "# если при one hot encoding некоторые значения фичей \"потерялись\", вручную добавляем \"потерянные\" столбцы\n",
    "missing_cols = set(x_train.columns) - set(x_valid.columns)\n",
    "for c in missing_cols:\n",
    "    x_valid[c] = 0\n",
    "x_valid = x_valid[x_train.columns]\n",
    "set(x_train.columns) - set(x_valid.columns)"
   ]
  },
  {
   "cell_type": "code",
   "execution_count": 47,
   "metadata": {},
   "outputs": [
    {
     "data": {
      "text/plain": [
       "True"
      ]
     },
     "execution_count": 47,
     "metadata": {},
     "output_type": "execute_result"
    }
   ],
   "source": [
    "list(x_train.columns) == list(x_valid.columns)"
   ]
  },
  {
   "cell_type": "markdown",
   "metadata": {},
   "source": [
    "### Обучение моделей ###"
   ]
  },
  {
   "cell_type": "code",
   "execution_count": 48,
   "metadata": {},
   "outputs": [],
   "source": [
    "# будем обучать модели, используя 5-fold кросс-валидацию и GridSearchCV для подбора параметров\n",
    "# для оценки качества будем использовать метрики MSE, MAE, R2\n",
    "from sklearn.model_selection import GridSearchCV\n",
    "from sklearn.metrics import mean_squared_error, mean_absolute_error, r2_score\n",
    "folds = 5"
   ]
  },
  {
   "cell_type": "markdown",
   "metadata": {},
   "source": [
    "**Linear Regression**"
   ]
  },
  {
   "cell_type": "code",
   "execution_count": 49,
   "metadata": {},
   "outputs": [
    {
     "name": "stdout",
     "output_type": "stream",
     "text": [
      "Linear Regression\n",
      "\n",
      "Best params: {}\n",
      "R2 score: 0.6392591854690246\n",
      "MSE: 24.919713337796143\n",
      "MAE: 3.54357206593076\n"
     ]
    },
    {
     "name": "stderr",
     "output_type": "stream",
     "text": [
      "C:\\ProgramData\\Anaconda3\\lib\\site-packages\\sklearn\\model_selection\\_search.py:841: DeprecationWarning: The default of the `iid` parameter will change from True to False in version 0.22 and will be removed in 0.24. This will change numeric results when test-set sizes are unequal.\n",
      "  DeprecationWarning)\n"
     ]
    }
   ],
   "source": [
    "from sklearn.linear_model import LinearRegression\n",
    "lr_params = {}\n",
    "lr = LinearRegression()\n",
    "gs_lr = GridSearchCV(lr, lr_params, cv=folds)\n",
    "gs_lr.fit(x_train, y_train)\n",
    "print('Linear Regression\\n')\n",
    "print(f'Best params: {gs_lr.best_params_}')\n",
    "\n",
    "y_pred_gs_lr = gs_lr.best_estimator_.predict(x_valid)\n",
    "print(f'R2 score: {r2_score(y_valid, y_pred_gs_lr)}')\n",
    "print(f'MSE: {mean_squared_error(y_valid, y_pred_gs_lr)}')\n",
    "print(f'MAE: {mean_absolute_error(y_valid, y_pred_gs_lr)}')"
   ]
  },
  {
   "cell_type": "markdown",
   "metadata": {},
   "source": [
    "**Lasso Regression**"
   ]
  },
  {
   "cell_type": "code",
   "execution_count": 50,
   "metadata": {},
   "outputs": [
    {
     "name": "stdout",
     "output_type": "stream",
     "text": [
      "Lasso Regression\n",
      "\n",
      "Best params: {'alpha': 0.1, 'max_iter': 1500, 'precompute': True, 'selection': 'random', 'tol': 0.1, 'warm_start': False}\n",
      "R2 score: 0.6397204090393667\n",
      "MSE: 24.88785234870207\n",
      "MAE: 3.4918166509065043\n"
     ]
    },
    {
     "name": "stderr",
     "output_type": "stream",
     "text": [
      "C:\\ProgramData\\Anaconda3\\lib\\site-packages\\sklearn\\model_selection\\_search.py:841: DeprecationWarning: The default of the `iid` parameter will change from True to False in version 0.22 and will be removed in 0.24. This will change numeric results when test-set sizes are unequal.\n",
      "  DeprecationWarning)\n"
     ]
    }
   ],
   "source": [
    "from sklearn.linear_model import Lasso\n",
    "ls_params = {\n",
    "    'alpha': [0.1, 0.2, 0.3, 0.4, 0.5, 0.6, 0.7, 0.8, 0.9, 1],\n",
    "    'precompute': [True, False],\n",
    "    'max_iter': [1000, 1500, 2000],\n",
    "    'tol': [0.0001, 0.001, 0.01, 0.1],\n",
    "    'warm_start': [True, False],\n",
    "    'selection': ['cyclic', 'random']\n",
    "}\n",
    "ls = Lasso()\n",
    "gs_ls = GridSearchCV(ls, ls_params, cv=folds)\n",
    "gs_ls.fit(x_train, y_train)\n",
    "print('Lasso Regression\\n')\n",
    "print(f'Best params: {gs_ls.best_params_}')\n",
    "\n",
    "y_pred_gs_ls = gs_ls.best_estimator_.predict(x_valid)\n",
    "print(f'R2 score: {r2_score(y_valid, y_pred_gs_ls)}')\n",
    "print(f'MSE: {mean_squared_error(y_valid, y_pred_gs_ls)}')\n",
    "print(f'MAE: {mean_absolute_error(y_valid, y_pred_gs_ls)}')"
   ]
  },
  {
   "cell_type": "markdown",
   "metadata": {},
   "source": [
    "**RidgeRegression**"
   ]
  },
  {
   "cell_type": "code",
   "execution_count": 51,
   "metadata": {},
   "outputs": [
    {
     "name": "stdout",
     "output_type": "stream",
     "text": [
      "Ridge Regression\n",
      "\n",
      "Best params: {'alpha': 0.2, 'max_iter': 2000, 'solver': 'saga', 'tol': 0.1}\n",
      "R2 score: 0.6540656365857678\n",
      "MSE: 23.896894453664444\n",
      "MAE: 3.3794935155561876\n"
     ]
    },
    {
     "name": "stderr",
     "output_type": "stream",
     "text": [
      "C:\\ProgramData\\Anaconda3\\lib\\site-packages\\sklearn\\model_selection\\_search.py:841: DeprecationWarning: The default of the `iid` parameter will change from True to False in version 0.22 and will be removed in 0.24. This will change numeric results when test-set sizes are unequal.\n",
      "  DeprecationWarning)\n"
     ]
    }
   ],
   "source": [
    "from sklearn.linear_model import Ridge\n",
    "rr_params = {\n",
    "    'alpha': [0.1, 0.2, 0.3, 0.4, 0.5, 0.6, 0.7, 0.8, 0.9, 1],\n",
    "    'tol': [0.0001, 0.001, 0.01, 0.1],\n",
    "    'max_iter': [1000, 1500, 2000],\n",
    "    'solver': ['auto', 'svd', 'cholesky', 'lsqr', 'sparse_cg', 'sag', 'saga']\n",
    "}\n",
    "rr = Ridge()\n",
    "gs_rr = GridSearchCV(rr, rr_params, cv=folds)\n",
    "gs_rr.fit(x_train, y_train)\n",
    "print('Ridge Regression\\n')\n",
    "print(f'Best params: {gs_rr.best_params_}')\n",
    "\n",
    "y_pred_gs_rr = gs_rr.best_estimator_.predict(x_valid)\n",
    "print(f'R2 score: {r2_score(y_valid, y_pred_gs_rr)}')\n",
    "print(f'MSE: {mean_squared_error(y_valid, y_pred_gs_rr)}')\n",
    "print(f'MAE: {mean_absolute_error(y_valid, y_pred_gs_rr)}')"
   ]
  },
  {
   "cell_type": "markdown",
   "metadata": {},
   "source": [
    "**SVR**"
   ]
  },
  {
   "cell_type": "code",
   "execution_count": 52,
   "metadata": {},
   "outputs": [
    {
     "name": "stdout",
     "output_type": "stream",
     "text": [
      "SVR\n",
      "\n",
      "Best params: {'C': 0.5, 'gamma': 'auto', 'kernel': 'linear', 'shrinking': True, 'tol': 0.0001}\n",
      "R2 score: 0.6880512962667232\n",
      "MSE: 21.549189778366095\n",
      "MAE: 2.89334591850418\n"
     ]
    },
    {
     "name": "stderr",
     "output_type": "stream",
     "text": [
      "C:\\ProgramData\\Anaconda3\\lib\\site-packages\\sklearn\\model_selection\\_search.py:841: DeprecationWarning: The default of the `iid` parameter will change from True to False in version 0.22 and will be removed in 0.24. This will change numeric results when test-set sizes are unequal.\n",
      "  DeprecationWarning)\n"
     ]
    }
   ],
   "source": [
    "from sklearn.svm import SVR\n",
    "svr_params = {\n",
    "    'C': [0.001, 0.01, 0.1, 0.25, 0.5],\n",
    "    'kernel': ['linear', 'poly', 'rbf', 'sigmoid'],\n",
    "    'tol': [0.0001, 0.001, 0.01, 0.1],\n",
    "    'shrinking': [True, False],\n",
    "    'gamma': ['auto', 'scale']\n",
    "}\n",
    "svr = SVR()\n",
    "gs_svr = GridSearchCV(svr, svr_params, cv=folds)\n",
    "gs_svr.fit(x_train, y_train)\n",
    "print('SVR\\n')\n",
    "print(f'Best params: {gs_svr.best_params_}')\n",
    "\n",
    "y_pred_gs_svr = gs_svr.best_estimator_.predict(x_valid)\n",
    "print(f'R2 score: {r2_score(y_valid, y_pred_gs_svr)}')\n",
    "print(f'MSE: {mean_squared_error(y_valid, y_pred_gs_svr)}')\n",
    "print(f'MAE: {mean_absolute_error(y_valid, y_pred_gs_svr)}')"
   ]
  },
  {
   "cell_type": "markdown",
   "metadata": {},
   "source": [
    "**Random Forest**"
   ]
  },
  {
   "cell_type": "code",
   "execution_count": 53,
   "metadata": {},
   "outputs": [
    {
     "name": "stdout",
     "output_type": "stream",
     "text": [
      "Random Forest Regressor\n",
      "\n",
      "Best params: {'max_depth': 9, 'min_samples_leaf': 1, 'n_estimators': 40}\n",
      "R2 score: 0.7953031635773923\n",
      "MSE: 14.140308718427896\n",
      "MAE: 2.2874752885845786\n"
     ]
    },
    {
     "name": "stderr",
     "output_type": "stream",
     "text": [
      "C:\\ProgramData\\Anaconda3\\lib\\site-packages\\sklearn\\model_selection\\_search.py:841: DeprecationWarning: The default of the `iid` parameter will change from True to False in version 0.22 and will be removed in 0.24. This will change numeric results when test-set sizes are unequal.\n",
      "  DeprecationWarning)\n"
     ]
    }
   ],
   "source": [
    "from sklearn.ensemble import RandomForestRegressor\n",
    "rf_params = {\n",
    "    'n_estimators': [5, 10, 40, 60, 100, 120],\n",
    "    'max_depth': [1, 3, 5, 7, 9, None],\n",
    "    'min_samples_leaf': [1, 2, 4, 8, 16],\n",
    "}\n",
    "rf = RandomForestRegressor()\n",
    "gs_rf = GridSearchCV(rf, rf_params, cv=folds)\n",
    "gs_rf.fit(x_train, y_train)\n",
    "print('Random Forest Regressor\\n')\n",
    "print(f'Best params: {gs_rf.best_params_}')\n",
    "\n",
    "y_pred_gs_rf = gs_rf.best_estimator_.predict(x_valid)\n",
    "print(f'R2 score: {r2_score(y_valid, y_pred_gs_rf)}')\n",
    "print(f'MSE: {mean_squared_error(y_valid, y_pred_gs_rf)}')\n",
    "print(f'MAE: {mean_absolute_error(y_valid, y_pred_gs_rf)}')"
   ]
  },
  {
   "cell_type": "code",
   "execution_count": 54,
   "metadata": {},
   "outputs": [
    {
     "data": {
      "text/plain": [
       "<matplotlib.axes._subplots.AxesSubplot at 0x1156ef4e860>"
      ]
     },
     "execution_count": 54,
     "metadata": {},
     "output_type": "execute_result"
    },
    {
     "data": {
      "image/png": "[encoded data removed]",
      "text/plain": [
       "<Figure size 432x288 with 1 Axes>"
      ]
     },
     "metadata": {
      "needs_background": "light"
     },
     "output_type": "display_data"
    }
   ],
   "source": [
    "# построим график для feature importances\n",
    "feat_importances = pd.Series(gs_rf.best_estimator_.feature_importances_, index=x_train.columns)\n",
    "feat_importances.nlargest(20).plot(kind='barh')"
   ]
  },
  {
   "cell_type": "markdown",
   "metadata": {},
   "source": [
    "**KNN Regressor**"
   ]
  },
  {
   "cell_type": "code",
   "execution_count": 55,
   "metadata": {},
   "outputs": [
    {
     "name": "stdout",
     "output_type": "stream",
     "text": [
      "KNN Regressor\n",
      "\n",
      "Best params: {'algorithm': 'auto', 'leaf_size': 30, 'n_neighbors': 3, 'p': 1}\n",
      "R2 score: 0.8196008679142994\n",
      "MSE: 12.461840958605666\n",
      "MAE: 2.2029411764705884\n"
     ]
    },
    {
     "name": "stderr",
     "output_type": "stream",
     "text": [
      "C:\\ProgramData\\Anaconda3\\lib\\site-packages\\sklearn\\model_selection\\_search.py:841: DeprecationWarning: The default of the `iid` parameter will change from True to False in version 0.22 and will be removed in 0.24. This will change numeric results when test-set sizes are unequal.\n",
      "  DeprecationWarning)\n"
     ]
    }
   ],
   "source": [
    "from sklearn.neighbors import KNeighborsRegressor\n",
    "knr_params = {\n",
    "    'n_neighbors': [1, 3, 5, 7, 9],\n",
    "    'p': [1, 2],\n",
    "    'algorithm': ['auto', 'ball_tree', 'kd_tree', 'brute'],\n",
    "    'leaf_size': [30, 10, 20, 40]\n",
    "}\n",
    "knr = KNeighborsRegressor()\n",
    "gs_knr = GridSearchCV(knr, knr_params, cv=folds)\n",
    "gs_knr.fit(x_train, y_train)\n",
    "print('KNN Regressor\\n')\n",
    "print(f'Best params: {gs_knr.best_params_}')\n",
    "\n",
    "y_pred_gs_knr = gs_knr.best_estimator_.predict(x_valid)\n",
    "print(f'R2 score: {r2_score(y_valid, y_pred_gs_knr)}')\n",
    "print(f'MSE: {mean_squared_error(y_valid, y_pred_gs_knr)}')\n",
    "print(f'MAE: {mean_absolute_error(y_valid, y_pred_gs_knr)}')"
   ]
  },
  {
   "cell_type": "markdown",
   "metadata": {},
   "source": [
    "### Выводы ###\n",
    "\n",
    "- наилучшие результаты показали модели SVR, Random Forest Regressor, KNN Regressor\n",
    "- от запуска к запуску кода данного ноутбука результаты ощутимо менялись, это говорит о зависимости от конкретного разбиения датасета на обучающую и валидационную выборки"
   ]
  },
  {
   "cell_type": "code",
   "execution_count": null,
   "metadata": {},
   "outputs": [],
   "source": []
  }
 ],
 "metadata": {
  "kernelspec": {
   "display_name": "Python 3",
   "language": "python",
   "name": "python3"
  },
  "language_info": {
   "codemirror_mode": {
    "name": "ipython",
    "version": 3
   },
   "file_extension": ".py",
   "mimetype": "text/x-python",
   "name": "python",
   "nbconvert_exporter": "python",
   "pygments_lexer": "ipython3",
   "version": "3.7.1"
  }
 },
 "nbformat": 4,
 "nbformat_minor": 2
}
